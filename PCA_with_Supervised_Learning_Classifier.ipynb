{
  "nbformat": 4,
  "nbformat_minor": 0,
  "metadata": {
    "colab": {
      "provenance": [],
      "authorship_tag": "ABX9TyO1IJnF3F0l7y2VggdfiAHU",
      "include_colab_link": true
    },
    "kernelspec": {
      "name": "python3",
      "display_name": "Python 3"
    },
    "language_info": {
      "name": "python"
    }
  },
  "cells": [
    {
      "cell_type": "markdown",
      "metadata": {
        "id": "view-in-github",
        "colab_type": "text"
      },
      "source": [
        "<a href=\"https://colab.research.google.com/github/Dharil33/PCA-With-Supervised-Learning-Classifier/blob/main/PCA_with_Supervised_Learning_Classifier.ipynb\" target=\"_parent\"><img src=\"https://colab.research.google.com/assets/colab-badge.svg\" alt=\"Open In Colab\"/></a>"
      ]
    },
    {
      "cell_type": "code",
      "execution_count": null,
      "metadata": {
        "id": "2hI05TSvGfMQ"
      },
      "outputs": [],
      "source": [
        "import numpy as np\n",
        "import pandas as pd\n",
        "import matplotlib.pyplot as plt\n",
        "import seaborn as sns"
      ]
    },
    {
      "cell_type": "code",
      "source": [
        "df = pd.read_csv(\"/content/data.csv\")\n",
        "df.head()"
      ],
      "metadata": {
        "colab": {
          "base_uri": "https://localhost:8080/",
          "height": 317
        },
        "id": "5gRkq9BLHls2",
        "outputId": "9882c174-f4eb-47e0-fa55-a458bc07bf1e"
      },
      "execution_count": null,
      "outputs": [
        {
          "output_type": "execute_result",
          "data": {
            "text/plain": [
              "         id diagnosis  radius_mean  texture_mean  perimeter_mean  area_mean  \\\n",
              "0    842302         M        17.99         10.38          122.80     1001.0   \n",
              "1    842517         M        20.57         17.77          132.90     1326.0   \n",
              "2  84300903         M        19.69         21.25          130.00     1203.0   \n",
              "3  84348301         M        11.42         20.38           77.58      386.1   \n",
              "4  84358402         M        20.29         14.34          135.10     1297.0   \n",
              "\n",
              "   smoothness_mean  compactness_mean  concavity_mean  concave points_mean  \\\n",
              "0          0.11840           0.27760          0.3001              0.14710   \n",
              "1          0.08474           0.07864          0.0869              0.07017   \n",
              "2          0.10960           0.15990          0.1974              0.12790   \n",
              "3          0.14250           0.28390          0.2414              0.10520   \n",
              "4          0.10030           0.13280          0.1980              0.10430   \n",
              "\n",
              "   ...  texture_worst  perimeter_worst  area_worst  smoothness_worst  \\\n",
              "0  ...          17.33           184.60      2019.0            0.1622   \n",
              "1  ...          23.41           158.80      1956.0            0.1238   \n",
              "2  ...          25.53           152.50      1709.0            0.1444   \n",
              "3  ...          26.50            98.87       567.7            0.2098   \n",
              "4  ...          16.67           152.20      1575.0            0.1374   \n",
              "\n",
              "   compactness_worst  concavity_worst  concave points_worst  symmetry_worst  \\\n",
              "0             0.6656           0.7119                0.2654          0.4601   \n",
              "1             0.1866           0.2416                0.1860          0.2750   \n",
              "2             0.4245           0.4504                0.2430          0.3613   \n",
              "3             0.8663           0.6869                0.2575          0.6638   \n",
              "4             0.2050           0.4000                0.1625          0.2364   \n",
              "\n",
              "   fractal_dimension_worst  Unnamed: 32  \n",
              "0                  0.11890          NaN  \n",
              "1                  0.08902          NaN  \n",
              "2                  0.08758          NaN  \n",
              "3                  0.17300          NaN  \n",
              "4                  0.07678          NaN  \n",
              "\n",
              "[5 rows x 33 columns]"
            ],
            "text/html": [
              "\n",
              "  <div id=\"df-55e00106-1ac8-4208-99fd-80858dff7b26\">\n",
              "    <div class=\"colab-df-container\">\n",
              "      <div>\n",
              "<style scoped>\n",
              "    .dataframe tbody tr th:only-of-type {\n",
              "        vertical-align: middle;\n",
              "    }\n",
              "\n",
              "    .dataframe tbody tr th {\n",
              "        vertical-align: top;\n",
              "    }\n",
              "\n",
              "    .dataframe thead th {\n",
              "        text-align: right;\n",
              "    }\n",
              "</style>\n",
              "<table border=\"1\" class=\"dataframe\">\n",
              "  <thead>\n",
              "    <tr style=\"text-align: right;\">\n",
              "      <th></th>\n",
              "      <th>id</th>\n",
              "      <th>diagnosis</th>\n",
              "      <th>radius_mean</th>\n",
              "      <th>texture_mean</th>\n",
              "      <th>perimeter_mean</th>\n",
              "      <th>area_mean</th>\n",
              "      <th>smoothness_mean</th>\n",
              "      <th>compactness_mean</th>\n",
              "      <th>concavity_mean</th>\n",
              "      <th>concave points_mean</th>\n",
              "      <th>...</th>\n",
              "      <th>texture_worst</th>\n",
              "      <th>perimeter_worst</th>\n",
              "      <th>area_worst</th>\n",
              "      <th>smoothness_worst</th>\n",
              "      <th>compactness_worst</th>\n",
              "      <th>concavity_worst</th>\n",
              "      <th>concave points_worst</th>\n",
              "      <th>symmetry_worst</th>\n",
              "      <th>fractal_dimension_worst</th>\n",
              "      <th>Unnamed: 32</th>\n",
              "    </tr>\n",
              "  </thead>\n",
              "  <tbody>\n",
              "    <tr>\n",
              "      <th>0</th>\n",
              "      <td>842302</td>\n",
              "      <td>M</td>\n",
              "      <td>17.99</td>\n",
              "      <td>10.38</td>\n",
              "      <td>122.80</td>\n",
              "      <td>1001.0</td>\n",
              "      <td>0.11840</td>\n",
              "      <td>0.27760</td>\n",
              "      <td>0.3001</td>\n",
              "      <td>0.14710</td>\n",
              "      <td>...</td>\n",
              "      <td>17.33</td>\n",
              "      <td>184.60</td>\n",
              "      <td>2019.0</td>\n",
              "      <td>0.1622</td>\n",
              "      <td>0.6656</td>\n",
              "      <td>0.7119</td>\n",
              "      <td>0.2654</td>\n",
              "      <td>0.4601</td>\n",
              "      <td>0.11890</td>\n",
              "      <td>NaN</td>\n",
              "    </tr>\n",
              "    <tr>\n",
              "      <th>1</th>\n",
              "      <td>842517</td>\n",
              "      <td>M</td>\n",
              "      <td>20.57</td>\n",
              "      <td>17.77</td>\n",
              "      <td>132.90</td>\n",
              "      <td>1326.0</td>\n",
              "      <td>0.08474</td>\n",
              "      <td>0.07864</td>\n",
              "      <td>0.0869</td>\n",
              "      <td>0.07017</td>\n",
              "      <td>...</td>\n",
              "      <td>23.41</td>\n",
              "      <td>158.80</td>\n",
              "      <td>1956.0</td>\n",
              "      <td>0.1238</td>\n",
              "      <td>0.1866</td>\n",
              "      <td>0.2416</td>\n",
              "      <td>0.1860</td>\n",
              "      <td>0.2750</td>\n",
              "      <td>0.08902</td>\n",
              "      <td>NaN</td>\n",
              "    </tr>\n",
              "    <tr>\n",
              "      <th>2</th>\n",
              "      <td>84300903</td>\n",
              "      <td>M</td>\n",
              "      <td>19.69</td>\n",
              "      <td>21.25</td>\n",
              "      <td>130.00</td>\n",
              "      <td>1203.0</td>\n",
              "      <td>0.10960</td>\n",
              "      <td>0.15990</td>\n",
              "      <td>0.1974</td>\n",
              "      <td>0.12790</td>\n",
              "      <td>...</td>\n",
              "      <td>25.53</td>\n",
              "      <td>152.50</td>\n",
              "      <td>1709.0</td>\n",
              "      <td>0.1444</td>\n",
              "      <td>0.4245</td>\n",
              "      <td>0.4504</td>\n",
              "      <td>0.2430</td>\n",
              "      <td>0.3613</td>\n",
              "      <td>0.08758</td>\n",
              "      <td>NaN</td>\n",
              "    </tr>\n",
              "    <tr>\n",
              "      <th>3</th>\n",
              "      <td>84348301</td>\n",
              "      <td>M</td>\n",
              "      <td>11.42</td>\n",
              "      <td>20.38</td>\n",
              "      <td>77.58</td>\n",
              "      <td>386.1</td>\n",
              "      <td>0.14250</td>\n",
              "      <td>0.28390</td>\n",
              "      <td>0.2414</td>\n",
              "      <td>0.10520</td>\n",
              "      <td>...</td>\n",
              "      <td>26.50</td>\n",
              "      <td>98.87</td>\n",
              "      <td>567.7</td>\n",
              "      <td>0.2098</td>\n",
              "      <td>0.8663</td>\n",
              "      <td>0.6869</td>\n",
              "      <td>0.2575</td>\n",
              "      <td>0.6638</td>\n",
              "      <td>0.17300</td>\n",
              "      <td>NaN</td>\n",
              "    </tr>\n",
              "    <tr>\n",
              "      <th>4</th>\n",
              "      <td>84358402</td>\n",
              "      <td>M</td>\n",
              "      <td>20.29</td>\n",
              "      <td>14.34</td>\n",
              "      <td>135.10</td>\n",
              "      <td>1297.0</td>\n",
              "      <td>0.10030</td>\n",
              "      <td>0.13280</td>\n",
              "      <td>0.1980</td>\n",
              "      <td>0.10430</td>\n",
              "      <td>...</td>\n",
              "      <td>16.67</td>\n",
              "      <td>152.20</td>\n",
              "      <td>1575.0</td>\n",
              "      <td>0.1374</td>\n",
              "      <td>0.2050</td>\n",
              "      <td>0.4000</td>\n",
              "      <td>0.1625</td>\n",
              "      <td>0.2364</td>\n",
              "      <td>0.07678</td>\n",
              "      <td>NaN</td>\n",
              "    </tr>\n",
              "  </tbody>\n",
              "</table>\n",
              "<p>5 rows × 33 columns</p>\n",
              "</div>\n",
              "      <button class=\"colab-df-convert\" onclick=\"convertToInteractive('df-55e00106-1ac8-4208-99fd-80858dff7b26')\"\n",
              "              title=\"Convert this dataframe to an interactive table.\"\n",
              "              style=\"display:none;\">\n",
              "        \n",
              "  <svg xmlns=\"http://www.w3.org/2000/svg\" height=\"24px\"viewBox=\"0 0 24 24\"\n",
              "       width=\"24px\">\n",
              "    <path d=\"M0 0h24v24H0V0z\" fill=\"none\"/>\n",
              "    <path d=\"M18.56 5.44l.94 2.06.94-2.06 2.06-.94-2.06-.94-.94-2.06-.94 2.06-2.06.94zm-11 1L8.5 8.5l.94-2.06 2.06-.94-2.06-.94L8.5 2.5l-.94 2.06-2.06.94zm10 10l.94 2.06.94-2.06 2.06-.94-2.06-.94-.94-2.06-.94 2.06-2.06.94z\"/><path d=\"M17.41 7.96l-1.37-1.37c-.4-.4-.92-.59-1.43-.59-.52 0-1.04.2-1.43.59L10.3 9.45l-7.72 7.72c-.78.78-.78 2.05 0 2.83L4 21.41c.39.39.9.59 1.41.59.51 0 1.02-.2 1.41-.59l7.78-7.78 2.81-2.81c.8-.78.8-2.07 0-2.86zM5.41 20L4 18.59l7.72-7.72 1.47 1.35L5.41 20z\"/>\n",
              "  </svg>\n",
              "      </button>\n",
              "      \n",
              "  <style>\n",
              "    .colab-df-container {\n",
              "      display:flex;\n",
              "      flex-wrap:wrap;\n",
              "      gap: 12px;\n",
              "    }\n",
              "\n",
              "    .colab-df-convert {\n",
              "      background-color: #E8F0FE;\n",
              "      border: none;\n",
              "      border-radius: 50%;\n",
              "      cursor: pointer;\n",
              "      display: none;\n",
              "      fill: #1967D2;\n",
              "      height: 32px;\n",
              "      padding: 0 0 0 0;\n",
              "      width: 32px;\n",
              "    }\n",
              "\n",
              "    .colab-df-convert:hover {\n",
              "      background-color: #E2EBFA;\n",
              "      box-shadow: 0px 1px 2px rgba(60, 64, 67, 0.3), 0px 1px 3px 1px rgba(60, 64, 67, 0.15);\n",
              "      fill: #174EA6;\n",
              "    }\n",
              "\n",
              "    [theme=dark] .colab-df-convert {\n",
              "      background-color: #3B4455;\n",
              "      fill: #D2E3FC;\n",
              "    }\n",
              "\n",
              "    [theme=dark] .colab-df-convert:hover {\n",
              "      background-color: #434B5C;\n",
              "      box-shadow: 0px 1px 3px 1px rgba(0, 0, 0, 0.15);\n",
              "      filter: drop-shadow(0px 1px 2px rgba(0, 0, 0, 0.3));\n",
              "      fill: #FFFFFF;\n",
              "    }\n",
              "  </style>\n",
              "\n",
              "      <script>\n",
              "        const buttonEl =\n",
              "          document.querySelector('#df-55e00106-1ac8-4208-99fd-80858dff7b26 button.colab-df-convert');\n",
              "        buttonEl.style.display =\n",
              "          google.colab.kernel.accessAllowed ? 'block' : 'none';\n",
              "\n",
              "        async function convertToInteractive(key) {\n",
              "          const element = document.querySelector('#df-55e00106-1ac8-4208-99fd-80858dff7b26');\n",
              "          const dataTable =\n",
              "            await google.colab.kernel.invokeFunction('convertToInteractive',\n",
              "                                                     [key], {});\n",
              "          if (!dataTable) return;\n",
              "\n",
              "          const docLinkHtml = 'Like what you see? Visit the ' +\n",
              "            '<a target=\"_blank\" href=https://colab.research.google.com/notebooks/data_table.ipynb>data table notebook</a>'\n",
              "            + ' to learn more about interactive tables.';\n",
              "          element.innerHTML = '';\n",
              "          dataTable['output_type'] = 'display_data';\n",
              "          await google.colab.output.renderOutput(dataTable, element);\n",
              "          const docLink = document.createElement('div');\n",
              "          docLink.innerHTML = docLinkHtml;\n",
              "          element.appendChild(docLink);\n",
              "        }\n",
              "      </script>\n",
              "    </div>\n",
              "  </div>\n",
              "  "
            ]
          },
          "metadata": {},
          "execution_count": 2
        }
      ]
    },
    {
      "cell_type": "code",
      "source": [
        "df.isnull().sum()"
      ],
      "metadata": {
        "colab": {
          "base_uri": "https://localhost:8080/"
        },
        "id": "yh_6rw7qHrG9",
        "outputId": "140527fa-1f2e-473d-e8b6-395b035c2302"
      },
      "execution_count": null,
      "outputs": [
        {
          "output_type": "execute_result",
          "data": {
            "text/plain": [
              "id                           0\n",
              "diagnosis                    0\n",
              "radius_mean                  0\n",
              "texture_mean                 0\n",
              "perimeter_mean               0\n",
              "area_mean                    0\n",
              "smoothness_mean              0\n",
              "compactness_mean             0\n",
              "concavity_mean               0\n",
              "concave points_mean          0\n",
              "symmetry_mean                0\n",
              "fractal_dimension_mean       0\n",
              "radius_se                    0\n",
              "texture_se                   0\n",
              "perimeter_se                 0\n",
              "area_se                      0\n",
              "smoothness_se                0\n",
              "compactness_se               0\n",
              "concavity_se                 0\n",
              "concave points_se            0\n",
              "symmetry_se                  0\n",
              "fractal_dimension_se         0\n",
              "radius_worst                 0\n",
              "texture_worst                0\n",
              "perimeter_worst              0\n",
              "area_worst                   0\n",
              "smoothness_worst             0\n",
              "compactness_worst            0\n",
              "concavity_worst              0\n",
              "concave points_worst         0\n",
              "symmetry_worst               0\n",
              "fractal_dimension_worst      0\n",
              "Unnamed: 32                569\n",
              "dtype: int64"
            ]
          },
          "metadata": {},
          "execution_count": 3
        }
      ]
    },
    {
      "cell_type": "code",
      "source": [
        "df.drop('Unnamed: 32',axis = 1, inplace = True)"
      ],
      "metadata": {
        "id": "nTmiXNdTHyJ9"
      },
      "execution_count": null,
      "outputs": []
    },
    {
      "cell_type": "code",
      "source": [
        "df.head()"
      ],
      "metadata": {
        "colab": {
          "base_uri": "https://localhost:8080/",
          "height": 317
        },
        "id": "cRtcmAalKBGl",
        "outputId": "0f5590ec-708c-4f27-905a-f46ac21367a6"
      },
      "execution_count": null,
      "outputs": [
        {
          "output_type": "execute_result",
          "data": {
            "text/plain": [
              "         id diagnosis  radius_mean  texture_mean  perimeter_mean  area_mean  \\\n",
              "0    842302         M        17.99         10.38          122.80     1001.0   \n",
              "1    842517         M        20.57         17.77          132.90     1326.0   \n",
              "2  84300903         M        19.69         21.25          130.00     1203.0   \n",
              "3  84348301         M        11.42         20.38           77.58      386.1   \n",
              "4  84358402         M        20.29         14.34          135.10     1297.0   \n",
              "\n",
              "   smoothness_mean  compactness_mean  concavity_mean  concave points_mean  \\\n",
              "0          0.11840           0.27760          0.3001              0.14710   \n",
              "1          0.08474           0.07864          0.0869              0.07017   \n",
              "2          0.10960           0.15990          0.1974              0.12790   \n",
              "3          0.14250           0.28390          0.2414              0.10520   \n",
              "4          0.10030           0.13280          0.1980              0.10430   \n",
              "\n",
              "   ...  radius_worst  texture_worst  perimeter_worst  area_worst  \\\n",
              "0  ...         25.38          17.33           184.60      2019.0   \n",
              "1  ...         24.99          23.41           158.80      1956.0   \n",
              "2  ...         23.57          25.53           152.50      1709.0   \n",
              "3  ...         14.91          26.50            98.87       567.7   \n",
              "4  ...         22.54          16.67           152.20      1575.0   \n",
              "\n",
              "   smoothness_worst  compactness_worst  concavity_worst  concave points_worst  \\\n",
              "0            0.1622             0.6656           0.7119                0.2654   \n",
              "1            0.1238             0.1866           0.2416                0.1860   \n",
              "2            0.1444             0.4245           0.4504                0.2430   \n",
              "3            0.2098             0.8663           0.6869                0.2575   \n",
              "4            0.1374             0.2050           0.4000                0.1625   \n",
              "\n",
              "   symmetry_worst  fractal_dimension_worst  \n",
              "0          0.4601                  0.11890  \n",
              "1          0.2750                  0.08902  \n",
              "2          0.3613                  0.08758  \n",
              "3          0.6638                  0.17300  \n",
              "4          0.2364                  0.07678  \n",
              "\n",
              "[5 rows x 32 columns]"
            ],
            "text/html": [
              "\n",
              "  <div id=\"df-23ca3462-a222-442c-a4a0-05bd24e4f7d1\">\n",
              "    <div class=\"colab-df-container\">\n",
              "      <div>\n",
              "<style scoped>\n",
              "    .dataframe tbody tr th:only-of-type {\n",
              "        vertical-align: middle;\n",
              "    }\n",
              "\n",
              "    .dataframe tbody tr th {\n",
              "        vertical-align: top;\n",
              "    }\n",
              "\n",
              "    .dataframe thead th {\n",
              "        text-align: right;\n",
              "    }\n",
              "</style>\n",
              "<table border=\"1\" class=\"dataframe\">\n",
              "  <thead>\n",
              "    <tr style=\"text-align: right;\">\n",
              "      <th></th>\n",
              "      <th>id</th>\n",
              "      <th>diagnosis</th>\n",
              "      <th>radius_mean</th>\n",
              "      <th>texture_mean</th>\n",
              "      <th>perimeter_mean</th>\n",
              "      <th>area_mean</th>\n",
              "      <th>smoothness_mean</th>\n",
              "      <th>compactness_mean</th>\n",
              "      <th>concavity_mean</th>\n",
              "      <th>concave points_mean</th>\n",
              "      <th>...</th>\n",
              "      <th>radius_worst</th>\n",
              "      <th>texture_worst</th>\n",
              "      <th>perimeter_worst</th>\n",
              "      <th>area_worst</th>\n",
              "      <th>smoothness_worst</th>\n",
              "      <th>compactness_worst</th>\n",
              "      <th>concavity_worst</th>\n",
              "      <th>concave points_worst</th>\n",
              "      <th>symmetry_worst</th>\n",
              "      <th>fractal_dimension_worst</th>\n",
              "    </tr>\n",
              "  </thead>\n",
              "  <tbody>\n",
              "    <tr>\n",
              "      <th>0</th>\n",
              "      <td>842302</td>\n",
              "      <td>M</td>\n",
              "      <td>17.99</td>\n",
              "      <td>10.38</td>\n",
              "      <td>122.80</td>\n",
              "      <td>1001.0</td>\n",
              "      <td>0.11840</td>\n",
              "      <td>0.27760</td>\n",
              "      <td>0.3001</td>\n",
              "      <td>0.14710</td>\n",
              "      <td>...</td>\n",
              "      <td>25.38</td>\n",
              "      <td>17.33</td>\n",
              "      <td>184.60</td>\n",
              "      <td>2019.0</td>\n",
              "      <td>0.1622</td>\n",
              "      <td>0.6656</td>\n",
              "      <td>0.7119</td>\n",
              "      <td>0.2654</td>\n",
              "      <td>0.4601</td>\n",
              "      <td>0.11890</td>\n",
              "    </tr>\n",
              "    <tr>\n",
              "      <th>1</th>\n",
              "      <td>842517</td>\n",
              "      <td>M</td>\n",
              "      <td>20.57</td>\n",
              "      <td>17.77</td>\n",
              "      <td>132.90</td>\n",
              "      <td>1326.0</td>\n",
              "      <td>0.08474</td>\n",
              "      <td>0.07864</td>\n",
              "      <td>0.0869</td>\n",
              "      <td>0.07017</td>\n",
              "      <td>...</td>\n",
              "      <td>24.99</td>\n",
              "      <td>23.41</td>\n",
              "      <td>158.80</td>\n",
              "      <td>1956.0</td>\n",
              "      <td>0.1238</td>\n",
              "      <td>0.1866</td>\n",
              "      <td>0.2416</td>\n",
              "      <td>0.1860</td>\n",
              "      <td>0.2750</td>\n",
              "      <td>0.08902</td>\n",
              "    </tr>\n",
              "    <tr>\n",
              "      <th>2</th>\n",
              "      <td>84300903</td>\n",
              "      <td>M</td>\n",
              "      <td>19.69</td>\n",
              "      <td>21.25</td>\n",
              "      <td>130.00</td>\n",
              "      <td>1203.0</td>\n",
              "      <td>0.10960</td>\n",
              "      <td>0.15990</td>\n",
              "      <td>0.1974</td>\n",
              "      <td>0.12790</td>\n",
              "      <td>...</td>\n",
              "      <td>23.57</td>\n",
              "      <td>25.53</td>\n",
              "      <td>152.50</td>\n",
              "      <td>1709.0</td>\n",
              "      <td>0.1444</td>\n",
              "      <td>0.4245</td>\n",
              "      <td>0.4504</td>\n",
              "      <td>0.2430</td>\n",
              "      <td>0.3613</td>\n",
              "      <td>0.08758</td>\n",
              "    </tr>\n",
              "    <tr>\n",
              "      <th>3</th>\n",
              "      <td>84348301</td>\n",
              "      <td>M</td>\n",
              "      <td>11.42</td>\n",
              "      <td>20.38</td>\n",
              "      <td>77.58</td>\n",
              "      <td>386.1</td>\n",
              "      <td>0.14250</td>\n",
              "      <td>0.28390</td>\n",
              "      <td>0.2414</td>\n",
              "      <td>0.10520</td>\n",
              "      <td>...</td>\n",
              "      <td>14.91</td>\n",
              "      <td>26.50</td>\n",
              "      <td>98.87</td>\n",
              "      <td>567.7</td>\n",
              "      <td>0.2098</td>\n",
              "      <td>0.8663</td>\n",
              "      <td>0.6869</td>\n",
              "      <td>0.2575</td>\n",
              "      <td>0.6638</td>\n",
              "      <td>0.17300</td>\n",
              "    </tr>\n",
              "    <tr>\n",
              "      <th>4</th>\n",
              "      <td>84358402</td>\n",
              "      <td>M</td>\n",
              "      <td>20.29</td>\n",
              "      <td>14.34</td>\n",
              "      <td>135.10</td>\n",
              "      <td>1297.0</td>\n",
              "      <td>0.10030</td>\n",
              "      <td>0.13280</td>\n",
              "      <td>0.1980</td>\n",
              "      <td>0.10430</td>\n",
              "      <td>...</td>\n",
              "      <td>22.54</td>\n",
              "      <td>16.67</td>\n",
              "      <td>152.20</td>\n",
              "      <td>1575.0</td>\n",
              "      <td>0.1374</td>\n",
              "      <td>0.2050</td>\n",
              "      <td>0.4000</td>\n",
              "      <td>0.1625</td>\n",
              "      <td>0.2364</td>\n",
              "      <td>0.07678</td>\n",
              "    </tr>\n",
              "  </tbody>\n",
              "</table>\n",
              "<p>5 rows × 32 columns</p>\n",
              "</div>\n",
              "      <button class=\"colab-df-convert\" onclick=\"convertToInteractive('df-23ca3462-a222-442c-a4a0-05bd24e4f7d1')\"\n",
              "              title=\"Convert this dataframe to an interactive table.\"\n",
              "              style=\"display:none;\">\n",
              "        \n",
              "  <svg xmlns=\"http://www.w3.org/2000/svg\" height=\"24px\"viewBox=\"0 0 24 24\"\n",
              "       width=\"24px\">\n",
              "    <path d=\"M0 0h24v24H0V0z\" fill=\"none\"/>\n",
              "    <path d=\"M18.56 5.44l.94 2.06.94-2.06 2.06-.94-2.06-.94-.94-2.06-.94 2.06-2.06.94zm-11 1L8.5 8.5l.94-2.06 2.06-.94-2.06-.94L8.5 2.5l-.94 2.06-2.06.94zm10 10l.94 2.06.94-2.06 2.06-.94-2.06-.94-.94-2.06-.94 2.06-2.06.94z\"/><path d=\"M17.41 7.96l-1.37-1.37c-.4-.4-.92-.59-1.43-.59-.52 0-1.04.2-1.43.59L10.3 9.45l-7.72 7.72c-.78.78-.78 2.05 0 2.83L4 21.41c.39.39.9.59 1.41.59.51 0 1.02-.2 1.41-.59l7.78-7.78 2.81-2.81c.8-.78.8-2.07 0-2.86zM5.41 20L4 18.59l7.72-7.72 1.47 1.35L5.41 20z\"/>\n",
              "  </svg>\n",
              "      </button>\n",
              "      \n",
              "  <style>\n",
              "    .colab-df-container {\n",
              "      display:flex;\n",
              "      flex-wrap:wrap;\n",
              "      gap: 12px;\n",
              "    }\n",
              "\n",
              "    .colab-df-convert {\n",
              "      background-color: #E8F0FE;\n",
              "      border: none;\n",
              "      border-radius: 50%;\n",
              "      cursor: pointer;\n",
              "      display: none;\n",
              "      fill: #1967D2;\n",
              "      height: 32px;\n",
              "      padding: 0 0 0 0;\n",
              "      width: 32px;\n",
              "    }\n",
              "\n",
              "    .colab-df-convert:hover {\n",
              "      background-color: #E2EBFA;\n",
              "      box-shadow: 0px 1px 2px rgba(60, 64, 67, 0.3), 0px 1px 3px 1px rgba(60, 64, 67, 0.15);\n",
              "      fill: #174EA6;\n",
              "    }\n",
              "\n",
              "    [theme=dark] .colab-df-convert {\n",
              "      background-color: #3B4455;\n",
              "      fill: #D2E3FC;\n",
              "    }\n",
              "\n",
              "    [theme=dark] .colab-df-convert:hover {\n",
              "      background-color: #434B5C;\n",
              "      box-shadow: 0px 1px 3px 1px rgba(0, 0, 0, 0.15);\n",
              "      filter: drop-shadow(0px 1px 2px rgba(0, 0, 0, 0.3));\n",
              "      fill: #FFFFFF;\n",
              "    }\n",
              "  </style>\n",
              "\n",
              "      <script>\n",
              "        const buttonEl =\n",
              "          document.querySelector('#df-23ca3462-a222-442c-a4a0-05bd24e4f7d1 button.colab-df-convert');\n",
              "        buttonEl.style.display =\n",
              "          google.colab.kernel.accessAllowed ? 'block' : 'none';\n",
              "\n",
              "        async function convertToInteractive(key) {\n",
              "          const element = document.querySelector('#df-23ca3462-a222-442c-a4a0-05bd24e4f7d1');\n",
              "          const dataTable =\n",
              "            await google.colab.kernel.invokeFunction('convertToInteractive',\n",
              "                                                     [key], {});\n",
              "          if (!dataTable) return;\n",
              "\n",
              "          const docLinkHtml = 'Like what you see? Visit the ' +\n",
              "            '<a target=\"_blank\" href=https://colab.research.google.com/notebooks/data_table.ipynb>data table notebook</a>'\n",
              "            + ' to learn more about interactive tables.';\n",
              "          element.innerHTML = '';\n",
              "          dataTable['output_type'] = 'display_data';\n",
              "          await google.colab.output.renderOutput(dataTable, element);\n",
              "          const docLink = document.createElement('div');\n",
              "          docLink.innerHTML = docLinkHtml;\n",
              "          element.appendChild(docLink);\n",
              "        }\n",
              "      </script>\n",
              "    </div>\n",
              "  </div>\n",
              "  "
            ]
          },
          "metadata": {},
          "execution_count": 5
        }
      ]
    },
    {
      "cell_type": "code",
      "source": [
        "df.shape"
      ],
      "metadata": {
        "colab": {
          "base_uri": "https://localhost:8080/"
        },
        "id": "tTVwAA93KFKV",
        "outputId": "0b8118c7-ab81-4145-f00f-01b96b6c0a05"
      },
      "execution_count": null,
      "outputs": [
        {
          "output_type": "execute_result",
          "data": {
            "text/plain": [
              "(569, 32)"
            ]
          },
          "metadata": {},
          "execution_count": 6
        }
      ]
    },
    {
      "cell_type": "code",
      "source": [
        "X = df.drop('diagnosis',axis = 1)\n",
        "X"
      ],
      "metadata": {
        "colab": {
          "base_uri": "https://localhost:8080/",
          "height": 505
        },
        "id": "-k0yZfBtKGj3",
        "outputId": "7c5e50de-0e28-4c32-88d9-bd828f98df9e"
      },
      "execution_count": null,
      "outputs": [
        {
          "output_type": "execute_result",
          "data": {
            "text/plain": [
              "           id  radius_mean  texture_mean  perimeter_mean  area_mean  \\\n",
              "0      842302        17.99         10.38          122.80     1001.0   \n",
              "1      842517        20.57         17.77          132.90     1326.0   \n",
              "2    84300903        19.69         21.25          130.00     1203.0   \n",
              "3    84348301        11.42         20.38           77.58      386.1   \n",
              "4    84358402        20.29         14.34          135.10     1297.0   \n",
              "..        ...          ...           ...             ...        ...   \n",
              "564    926424        21.56         22.39          142.00     1479.0   \n",
              "565    926682        20.13         28.25          131.20     1261.0   \n",
              "566    926954        16.60         28.08          108.30      858.1   \n",
              "567    927241        20.60         29.33          140.10     1265.0   \n",
              "568     92751         7.76         24.54           47.92      181.0   \n",
              "\n",
              "     smoothness_mean  compactness_mean  concavity_mean  concave points_mean  \\\n",
              "0            0.11840           0.27760         0.30010              0.14710   \n",
              "1            0.08474           0.07864         0.08690              0.07017   \n",
              "2            0.10960           0.15990         0.19740              0.12790   \n",
              "3            0.14250           0.28390         0.24140              0.10520   \n",
              "4            0.10030           0.13280         0.19800              0.10430   \n",
              "..               ...               ...             ...                  ...   \n",
              "564          0.11100           0.11590         0.24390              0.13890   \n",
              "565          0.09780           0.10340         0.14400              0.09791   \n",
              "566          0.08455           0.10230         0.09251              0.05302   \n",
              "567          0.11780           0.27700         0.35140              0.15200   \n",
              "568          0.05263           0.04362         0.00000              0.00000   \n",
              "\n",
              "     symmetry_mean  ...  radius_worst  texture_worst  perimeter_worst  \\\n",
              "0           0.2419  ...        25.380          17.33           184.60   \n",
              "1           0.1812  ...        24.990          23.41           158.80   \n",
              "2           0.2069  ...        23.570          25.53           152.50   \n",
              "3           0.2597  ...        14.910          26.50            98.87   \n",
              "4           0.1809  ...        22.540          16.67           152.20   \n",
              "..             ...  ...           ...            ...              ...   \n",
              "564         0.1726  ...        25.450          26.40           166.10   \n",
              "565         0.1752  ...        23.690          38.25           155.00   \n",
              "566         0.1590  ...        18.980          34.12           126.70   \n",
              "567         0.2397  ...        25.740          39.42           184.60   \n",
              "568         0.1587  ...         9.456          30.37            59.16   \n",
              "\n",
              "     area_worst  smoothness_worst  compactness_worst  concavity_worst  \\\n",
              "0        2019.0           0.16220            0.66560           0.7119   \n",
              "1        1956.0           0.12380            0.18660           0.2416   \n",
              "2        1709.0           0.14440            0.42450           0.4504   \n",
              "3         567.7           0.20980            0.86630           0.6869   \n",
              "4        1575.0           0.13740            0.20500           0.4000   \n",
              "..          ...               ...                ...              ...   \n",
              "564      2027.0           0.14100            0.21130           0.4107   \n",
              "565      1731.0           0.11660            0.19220           0.3215   \n",
              "566      1124.0           0.11390            0.30940           0.3403   \n",
              "567      1821.0           0.16500            0.86810           0.9387   \n",
              "568       268.6           0.08996            0.06444           0.0000   \n",
              "\n",
              "     concave points_worst  symmetry_worst  fractal_dimension_worst  \n",
              "0                  0.2654          0.4601                  0.11890  \n",
              "1                  0.1860          0.2750                  0.08902  \n",
              "2                  0.2430          0.3613                  0.08758  \n",
              "3                  0.2575          0.6638                  0.17300  \n",
              "4                  0.1625          0.2364                  0.07678  \n",
              "..                    ...             ...                      ...  \n",
              "564                0.2216          0.2060                  0.07115  \n",
              "565                0.1628          0.2572                  0.06637  \n",
              "566                0.1418          0.2218                  0.07820  \n",
              "567                0.2650          0.4087                  0.12400  \n",
              "568                0.0000          0.2871                  0.07039  \n",
              "\n",
              "[569 rows x 31 columns]"
            ],
            "text/html": [
              "\n",
              "  <div id=\"df-64f2632f-a540-478d-95f2-bf6f15e37e44\">\n",
              "    <div class=\"colab-df-container\">\n",
              "      <div>\n",
              "<style scoped>\n",
              "    .dataframe tbody tr th:only-of-type {\n",
              "        vertical-align: middle;\n",
              "    }\n",
              "\n",
              "    .dataframe tbody tr th {\n",
              "        vertical-align: top;\n",
              "    }\n",
              "\n",
              "    .dataframe thead th {\n",
              "        text-align: right;\n",
              "    }\n",
              "</style>\n",
              "<table border=\"1\" class=\"dataframe\">\n",
              "  <thead>\n",
              "    <tr style=\"text-align: right;\">\n",
              "      <th></th>\n",
              "      <th>id</th>\n",
              "      <th>radius_mean</th>\n",
              "      <th>texture_mean</th>\n",
              "      <th>perimeter_mean</th>\n",
              "      <th>area_mean</th>\n",
              "      <th>smoothness_mean</th>\n",
              "      <th>compactness_mean</th>\n",
              "      <th>concavity_mean</th>\n",
              "      <th>concave points_mean</th>\n",
              "      <th>symmetry_mean</th>\n",
              "      <th>...</th>\n",
              "      <th>radius_worst</th>\n",
              "      <th>texture_worst</th>\n",
              "      <th>perimeter_worst</th>\n",
              "      <th>area_worst</th>\n",
              "      <th>smoothness_worst</th>\n",
              "      <th>compactness_worst</th>\n",
              "      <th>concavity_worst</th>\n",
              "      <th>concave points_worst</th>\n",
              "      <th>symmetry_worst</th>\n",
              "      <th>fractal_dimension_worst</th>\n",
              "    </tr>\n",
              "  </thead>\n",
              "  <tbody>\n",
              "    <tr>\n",
              "      <th>0</th>\n",
              "      <td>842302</td>\n",
              "      <td>17.99</td>\n",
              "      <td>10.38</td>\n",
              "      <td>122.80</td>\n",
              "      <td>1001.0</td>\n",
              "      <td>0.11840</td>\n",
              "      <td>0.27760</td>\n",
              "      <td>0.30010</td>\n",
              "      <td>0.14710</td>\n",
              "      <td>0.2419</td>\n",
              "      <td>...</td>\n",
              "      <td>25.380</td>\n",
              "      <td>17.33</td>\n",
              "      <td>184.60</td>\n",
              "      <td>2019.0</td>\n",
              "      <td>0.16220</td>\n",
              "      <td>0.66560</td>\n",
              "      <td>0.7119</td>\n",
              "      <td>0.2654</td>\n",
              "      <td>0.4601</td>\n",
              "      <td>0.11890</td>\n",
              "    </tr>\n",
              "    <tr>\n",
              "      <th>1</th>\n",
              "      <td>842517</td>\n",
              "      <td>20.57</td>\n",
              "      <td>17.77</td>\n",
              "      <td>132.90</td>\n",
              "      <td>1326.0</td>\n",
              "      <td>0.08474</td>\n",
              "      <td>0.07864</td>\n",
              "      <td>0.08690</td>\n",
              "      <td>0.07017</td>\n",
              "      <td>0.1812</td>\n",
              "      <td>...</td>\n",
              "      <td>24.990</td>\n",
              "      <td>23.41</td>\n",
              "      <td>158.80</td>\n",
              "      <td>1956.0</td>\n",
              "      <td>0.12380</td>\n",
              "      <td>0.18660</td>\n",
              "      <td>0.2416</td>\n",
              "      <td>0.1860</td>\n",
              "      <td>0.2750</td>\n",
              "      <td>0.08902</td>\n",
              "    </tr>\n",
              "    <tr>\n",
              "      <th>2</th>\n",
              "      <td>84300903</td>\n",
              "      <td>19.69</td>\n",
              "      <td>21.25</td>\n",
              "      <td>130.00</td>\n",
              "      <td>1203.0</td>\n",
              "      <td>0.10960</td>\n",
              "      <td>0.15990</td>\n",
              "      <td>0.19740</td>\n",
              "      <td>0.12790</td>\n",
              "      <td>0.2069</td>\n",
              "      <td>...</td>\n",
              "      <td>23.570</td>\n",
              "      <td>25.53</td>\n",
              "      <td>152.50</td>\n",
              "      <td>1709.0</td>\n",
              "      <td>0.14440</td>\n",
              "      <td>0.42450</td>\n",
              "      <td>0.4504</td>\n",
              "      <td>0.2430</td>\n",
              "      <td>0.3613</td>\n",
              "      <td>0.08758</td>\n",
              "    </tr>\n",
              "    <tr>\n",
              "      <th>3</th>\n",
              "      <td>84348301</td>\n",
              "      <td>11.42</td>\n",
              "      <td>20.38</td>\n",
              "      <td>77.58</td>\n",
              "      <td>386.1</td>\n",
              "      <td>0.14250</td>\n",
              "      <td>0.28390</td>\n",
              "      <td>0.24140</td>\n",
              "      <td>0.10520</td>\n",
              "      <td>0.2597</td>\n",
              "      <td>...</td>\n",
              "      <td>14.910</td>\n",
              "      <td>26.50</td>\n",
              "      <td>98.87</td>\n",
              "      <td>567.7</td>\n",
              "      <td>0.20980</td>\n",
              "      <td>0.86630</td>\n",
              "      <td>0.6869</td>\n",
              "      <td>0.2575</td>\n",
              "      <td>0.6638</td>\n",
              "      <td>0.17300</td>\n",
              "    </tr>\n",
              "    <tr>\n",
              "      <th>4</th>\n",
              "      <td>84358402</td>\n",
              "      <td>20.29</td>\n",
              "      <td>14.34</td>\n",
              "      <td>135.10</td>\n",
              "      <td>1297.0</td>\n",
              "      <td>0.10030</td>\n",
              "      <td>0.13280</td>\n",
              "      <td>0.19800</td>\n",
              "      <td>0.10430</td>\n",
              "      <td>0.1809</td>\n",
              "      <td>...</td>\n",
              "      <td>22.540</td>\n",
              "      <td>16.67</td>\n",
              "      <td>152.20</td>\n",
              "      <td>1575.0</td>\n",
              "      <td>0.13740</td>\n",
              "      <td>0.20500</td>\n",
              "      <td>0.4000</td>\n",
              "      <td>0.1625</td>\n",
              "      <td>0.2364</td>\n",
              "      <td>0.07678</td>\n",
              "    </tr>\n",
              "    <tr>\n",
              "      <th>...</th>\n",
              "      <td>...</td>\n",
              "      <td>...</td>\n",
              "      <td>...</td>\n",
              "      <td>...</td>\n",
              "      <td>...</td>\n",
              "      <td>...</td>\n",
              "      <td>...</td>\n",
              "      <td>...</td>\n",
              "      <td>...</td>\n",
              "      <td>...</td>\n",
              "      <td>...</td>\n",
              "      <td>...</td>\n",
              "      <td>...</td>\n",
              "      <td>...</td>\n",
              "      <td>...</td>\n",
              "      <td>...</td>\n",
              "      <td>...</td>\n",
              "      <td>...</td>\n",
              "      <td>...</td>\n",
              "      <td>...</td>\n",
              "      <td>...</td>\n",
              "    </tr>\n",
              "    <tr>\n",
              "      <th>564</th>\n",
              "      <td>926424</td>\n",
              "      <td>21.56</td>\n",
              "      <td>22.39</td>\n",
              "      <td>142.00</td>\n",
              "      <td>1479.0</td>\n",
              "      <td>0.11100</td>\n",
              "      <td>0.11590</td>\n",
              "      <td>0.24390</td>\n",
              "      <td>0.13890</td>\n",
              "      <td>0.1726</td>\n",
              "      <td>...</td>\n",
              "      <td>25.450</td>\n",
              "      <td>26.40</td>\n",
              "      <td>166.10</td>\n",
              "      <td>2027.0</td>\n",
              "      <td>0.14100</td>\n",
              "      <td>0.21130</td>\n",
              "      <td>0.4107</td>\n",
              "      <td>0.2216</td>\n",
              "      <td>0.2060</td>\n",
              "      <td>0.07115</td>\n",
              "    </tr>\n",
              "    <tr>\n",
              "      <th>565</th>\n",
              "      <td>926682</td>\n",
              "      <td>20.13</td>\n",
              "      <td>28.25</td>\n",
              "      <td>131.20</td>\n",
              "      <td>1261.0</td>\n",
              "      <td>0.09780</td>\n",
              "      <td>0.10340</td>\n",
              "      <td>0.14400</td>\n",
              "      <td>0.09791</td>\n",
              "      <td>0.1752</td>\n",
              "      <td>...</td>\n",
              "      <td>23.690</td>\n",
              "      <td>38.25</td>\n",
              "      <td>155.00</td>\n",
              "      <td>1731.0</td>\n",
              "      <td>0.11660</td>\n",
              "      <td>0.19220</td>\n",
              "      <td>0.3215</td>\n",
              "      <td>0.1628</td>\n",
              "      <td>0.2572</td>\n",
              "      <td>0.06637</td>\n",
              "    </tr>\n",
              "    <tr>\n",
              "      <th>566</th>\n",
              "      <td>926954</td>\n",
              "      <td>16.60</td>\n",
              "      <td>28.08</td>\n",
              "      <td>108.30</td>\n",
              "      <td>858.1</td>\n",
              "      <td>0.08455</td>\n",
              "      <td>0.10230</td>\n",
              "      <td>0.09251</td>\n",
              "      <td>0.05302</td>\n",
              "      <td>0.1590</td>\n",
              "      <td>...</td>\n",
              "      <td>18.980</td>\n",
              "      <td>34.12</td>\n",
              "      <td>126.70</td>\n",
              "      <td>1124.0</td>\n",
              "      <td>0.11390</td>\n",
              "      <td>0.30940</td>\n",
              "      <td>0.3403</td>\n",
              "      <td>0.1418</td>\n",
              "      <td>0.2218</td>\n",
              "      <td>0.07820</td>\n",
              "    </tr>\n",
              "    <tr>\n",
              "      <th>567</th>\n",
              "      <td>927241</td>\n",
              "      <td>20.60</td>\n",
              "      <td>29.33</td>\n",
              "      <td>140.10</td>\n",
              "      <td>1265.0</td>\n",
              "      <td>0.11780</td>\n",
              "      <td>0.27700</td>\n",
              "      <td>0.35140</td>\n",
              "      <td>0.15200</td>\n",
              "      <td>0.2397</td>\n",
              "      <td>...</td>\n",
              "      <td>25.740</td>\n",
              "      <td>39.42</td>\n",
              "      <td>184.60</td>\n",
              "      <td>1821.0</td>\n",
              "      <td>0.16500</td>\n",
              "      <td>0.86810</td>\n",
              "      <td>0.9387</td>\n",
              "      <td>0.2650</td>\n",
              "      <td>0.4087</td>\n",
              "      <td>0.12400</td>\n",
              "    </tr>\n",
              "    <tr>\n",
              "      <th>568</th>\n",
              "      <td>92751</td>\n",
              "      <td>7.76</td>\n",
              "      <td>24.54</td>\n",
              "      <td>47.92</td>\n",
              "      <td>181.0</td>\n",
              "      <td>0.05263</td>\n",
              "      <td>0.04362</td>\n",
              "      <td>0.00000</td>\n",
              "      <td>0.00000</td>\n",
              "      <td>0.1587</td>\n",
              "      <td>...</td>\n",
              "      <td>9.456</td>\n",
              "      <td>30.37</td>\n",
              "      <td>59.16</td>\n",
              "      <td>268.6</td>\n",
              "      <td>0.08996</td>\n",
              "      <td>0.06444</td>\n",
              "      <td>0.0000</td>\n",
              "      <td>0.0000</td>\n",
              "      <td>0.2871</td>\n",
              "      <td>0.07039</td>\n",
              "    </tr>\n",
              "  </tbody>\n",
              "</table>\n",
              "<p>569 rows × 31 columns</p>\n",
              "</div>\n",
              "      <button class=\"colab-df-convert\" onclick=\"convertToInteractive('df-64f2632f-a540-478d-95f2-bf6f15e37e44')\"\n",
              "              title=\"Convert this dataframe to an interactive table.\"\n",
              "              style=\"display:none;\">\n",
              "        \n",
              "  <svg xmlns=\"http://www.w3.org/2000/svg\" height=\"24px\"viewBox=\"0 0 24 24\"\n",
              "       width=\"24px\">\n",
              "    <path d=\"M0 0h24v24H0V0z\" fill=\"none\"/>\n",
              "    <path d=\"M18.56 5.44l.94 2.06.94-2.06 2.06-.94-2.06-.94-.94-2.06-.94 2.06-2.06.94zm-11 1L8.5 8.5l.94-2.06 2.06-.94-2.06-.94L8.5 2.5l-.94 2.06-2.06.94zm10 10l.94 2.06.94-2.06 2.06-.94-2.06-.94-.94-2.06-.94 2.06-2.06.94z\"/><path d=\"M17.41 7.96l-1.37-1.37c-.4-.4-.92-.59-1.43-.59-.52 0-1.04.2-1.43.59L10.3 9.45l-7.72 7.72c-.78.78-.78 2.05 0 2.83L4 21.41c.39.39.9.59 1.41.59.51 0 1.02-.2 1.41-.59l7.78-7.78 2.81-2.81c.8-.78.8-2.07 0-2.86zM5.41 20L4 18.59l7.72-7.72 1.47 1.35L5.41 20z\"/>\n",
              "  </svg>\n",
              "      </button>\n",
              "      \n",
              "  <style>\n",
              "    .colab-df-container {\n",
              "      display:flex;\n",
              "      flex-wrap:wrap;\n",
              "      gap: 12px;\n",
              "    }\n",
              "\n",
              "    .colab-df-convert {\n",
              "      background-color: #E8F0FE;\n",
              "      border: none;\n",
              "      border-radius: 50%;\n",
              "      cursor: pointer;\n",
              "      display: none;\n",
              "      fill: #1967D2;\n",
              "      height: 32px;\n",
              "      padding: 0 0 0 0;\n",
              "      width: 32px;\n",
              "    }\n",
              "\n",
              "    .colab-df-convert:hover {\n",
              "      background-color: #E2EBFA;\n",
              "      box-shadow: 0px 1px 2px rgba(60, 64, 67, 0.3), 0px 1px 3px 1px rgba(60, 64, 67, 0.15);\n",
              "      fill: #174EA6;\n",
              "    }\n",
              "\n",
              "    [theme=dark] .colab-df-convert {\n",
              "      background-color: #3B4455;\n",
              "      fill: #D2E3FC;\n",
              "    }\n",
              "\n",
              "    [theme=dark] .colab-df-convert:hover {\n",
              "      background-color: #434B5C;\n",
              "      box-shadow: 0px 1px 3px 1px rgba(0, 0, 0, 0.15);\n",
              "      filter: drop-shadow(0px 1px 2px rgba(0, 0, 0, 0.3));\n",
              "      fill: #FFFFFF;\n",
              "    }\n",
              "  </style>\n",
              "\n",
              "      <script>\n",
              "        const buttonEl =\n",
              "          document.querySelector('#df-64f2632f-a540-478d-95f2-bf6f15e37e44 button.colab-df-convert');\n",
              "        buttonEl.style.display =\n",
              "          google.colab.kernel.accessAllowed ? 'block' : 'none';\n",
              "\n",
              "        async function convertToInteractive(key) {\n",
              "          const element = document.querySelector('#df-64f2632f-a540-478d-95f2-bf6f15e37e44');\n",
              "          const dataTable =\n",
              "            await google.colab.kernel.invokeFunction('convertToInteractive',\n",
              "                                                     [key], {});\n",
              "          if (!dataTable) return;\n",
              "\n",
              "          const docLinkHtml = 'Like what you see? Visit the ' +\n",
              "            '<a target=\"_blank\" href=https://colab.research.google.com/notebooks/data_table.ipynb>data table notebook</a>'\n",
              "            + ' to learn more about interactive tables.';\n",
              "          element.innerHTML = '';\n",
              "          dataTable['output_type'] = 'display_data';\n",
              "          await google.colab.output.renderOutput(dataTable, element);\n",
              "          const docLink = document.createElement('div');\n",
              "          docLink.innerHTML = docLinkHtml;\n",
              "          element.appendChild(docLink);\n",
              "        }\n",
              "      </script>\n",
              "    </div>\n",
              "  </div>\n",
              "  "
            ]
          },
          "metadata": {},
          "execution_count": 7
        }
      ]
    },
    {
      "cell_type": "code",
      "source": [
        "y = df.iloc[:,1]\n",
        "y"
      ],
      "metadata": {
        "colab": {
          "base_uri": "https://localhost:8080/"
        },
        "id": "nxfCcy3KKPPO",
        "outputId": "97ee313d-be29-47e4-b868-55b25c4b7a55"
      },
      "execution_count": null,
      "outputs": [
        {
          "output_type": "execute_result",
          "data": {
            "text/plain": [
              "0      M\n",
              "1      M\n",
              "2      M\n",
              "3      M\n",
              "4      M\n",
              "      ..\n",
              "564    M\n",
              "565    M\n",
              "566    M\n",
              "567    M\n",
              "568    B\n",
              "Name: diagnosis, Length: 569, dtype: object"
            ]
          },
          "metadata": {},
          "execution_count": 8
        }
      ]
    },
    {
      "cell_type": "code",
      "source": [
        "from sklearn.model_selection import train_test_split\n",
        "X_train,X_test,y_train,y_test = train_test_split(X,y,test_size=0.2,random_state=0)"
      ],
      "metadata": {
        "id": "qFvWRqQfKSc9"
      },
      "execution_count": null,
      "outputs": []
    },
    {
      "cell_type": "markdown",
      "source": [
        "**Support Vector Machine (SVM)**\n",
        "\n",
        "Before applying PCA"
      ],
      "metadata": {
        "id": "NV_LI-RHhOQB"
      }
    },
    {
      "cell_type": "code",
      "source": [
        "from sklearn.svm import SVC\n",
        "sm = SVC()"
      ],
      "metadata": {
        "id": "PTneC5YCKU69"
      },
      "execution_count": null,
      "outputs": []
    },
    {
      "cell_type": "code",
      "source": [
        "sm.fit(X_train,y_train)"
      ],
      "metadata": {
        "colab": {
          "base_uri": "https://localhost:8080/"
        },
        "id": "L93nEaUCKWsA",
        "outputId": "6c5959fa-7b50-4e9a-e6f3-bdf947720057"
      },
      "execution_count": null,
      "outputs": [
        {
          "output_type": "execute_result",
          "data": {
            "text/plain": [
              "SVC()"
            ]
          },
          "metadata": {},
          "execution_count": 12
        }
      ]
    },
    {
      "cell_type": "code",
      "source": [
        "import time\n",
        "start = time.time()\n",
        "y_pred = sm.predict(X_test)\n",
        "print(time.time()-start)"
      ],
      "metadata": {
        "id": "Ns2XOvn8KYWE",
        "colab": {
          "base_uri": "https://localhost:8080/"
        },
        "outputId": "32fd23e8-f6fb-4cfd-b244-06883559ba63"
      },
      "execution_count": null,
      "outputs": [
        {
          "output_type": "stream",
          "name": "stdout",
          "text": [
            "0.009785890579223633\n"
          ]
        }
      ]
    },
    {
      "cell_type": "code",
      "source": [
        "from sklearn.metrics import accuracy_score,confusion_matrix,classification_report\n",
        "acc = accuracy_score(y_test,y_pred)\n",
        "acc"
      ],
      "metadata": {
        "colab": {
          "base_uri": "https://localhost:8080/"
        },
        "id": "M-uQlrhmKdi4",
        "outputId": "672c3a2f-0c2e-4499-cb15-e818b137af0b"
      },
      "execution_count": null,
      "outputs": [
        {
          "output_type": "execute_result",
          "data": {
            "text/plain": [
              "0.5877192982456141"
            ]
          },
          "metadata": {},
          "execution_count": 14
        }
      ]
    },
    {
      "cell_type": "code",
      "source": [
        "print(classification_report(y_test,y_pred))"
      ],
      "metadata": {
        "colab": {
          "base_uri": "https://localhost:8080/"
        },
        "id": "m_T55MAmoycs",
        "outputId": "8fb85ea0-e398-4f63-c94c-65a5525b3ffc"
      },
      "execution_count": null,
      "outputs": [
        {
          "output_type": "stream",
          "name": "stdout",
          "text": [
            "              precision    recall  f1-score   support\n",
            "\n",
            "           B       0.59      1.00      0.74        67\n",
            "           M       0.00      0.00      0.00        47\n",
            "\n",
            "    accuracy                           0.59       114\n",
            "   macro avg       0.29      0.50      0.37       114\n",
            "weighted avg       0.35      0.59      0.44       114\n",
            "\n"
          ]
        },
        {
          "output_type": "stream",
          "name": "stderr",
          "text": [
            "/usr/local/lib/python3.8/dist-packages/sklearn/metrics/_classification.py:1318: UndefinedMetricWarning: Precision and F-score are ill-defined and being set to 0.0 in labels with no predicted samples. Use `zero_division` parameter to control this behavior.\n",
            "  _warn_prf(average, modifier, msg_start, len(result))\n",
            "/usr/local/lib/python3.8/dist-packages/sklearn/metrics/_classification.py:1318: UndefinedMetricWarning: Precision and F-score are ill-defined and being set to 0.0 in labels with no predicted samples. Use `zero_division` parameter to control this behavior.\n",
            "  _warn_prf(average, modifier, msg_start, len(result))\n",
            "/usr/local/lib/python3.8/dist-packages/sklearn/metrics/_classification.py:1318: UndefinedMetricWarning: Precision and F-score are ill-defined and being set to 0.0 in labels with no predicted samples. Use `zero_division` parameter to control this behavior.\n",
            "  _warn_prf(average, modifier, msg_start, len(result))\n"
          ]
        }
      ]
    },
    {
      "cell_type": "markdown",
      "source": [
        "**Visualization Before Applying PCA**"
      ],
      "metadata": {
        "id": "KkC5lQdJioR1"
      }
    },
    {
      "cell_type": "code",
      "source": [
        "perimeter = df[['perimeter_mean','perimeter_se','perimeter_worst','diagnosis']]\n",
        "sns.pairplot(perimeter, hue='diagnosis', size = 4, kind=\"reg\")"
      ],
      "metadata": {
        "colab": {
          "base_uri": "https://localhost:8080/",
          "height": 920
        },
        "id": "ufttl3IbiIML",
        "outputId": "0235390f-eb87-4afd-b4b7-a6877b6b706a"
      },
      "execution_count": null,
      "outputs": [
        {
          "output_type": "stream",
          "name": "stderr",
          "text": [
            "/usr/local/lib/python3.8/dist-packages/seaborn/axisgrid.py:2076: UserWarning: The `size` parameter has been renamed to `height`; please update your code.\n",
            "  warnings.warn(msg, UserWarning)\n"
          ]
        },
        {
          "output_type": "execute_result",
          "data": {
            "text/plain": [
              "<seaborn.axisgrid.PairGrid at 0x7f597057b790>"
            ]
          },
          "metadata": {},
          "execution_count": 16
        },
        {
          "output_type": "display_data",
          "data": {
            "text/plain": [
              "<Figure size 919.5x864 with 12 Axes>"
            ],
            "image/png": "[encoded data removed]"
          },
          "metadata": {
            "needs_background": "light"
          }
        }
      ]
    },
    {
      "cell_type": "markdown",
      "source": [
        "**Applying Principal Component Analysis (PCA)**\n"
      ],
      "metadata": {
        "id": "3HoEiX5xhtqW"
      }
    },
    {
      "cell_type": "code",
      "source": [
        "from sklearn.preprocessing import StandardScaler\n",
        "sc = StandardScaler()"
      ],
      "metadata": {
        "id": "A8JwQ-ysK2Ie"
      },
      "execution_count": null,
      "outputs": []
    },
    {
      "cell_type": "code",
      "source": [
        "X_train = sc.fit_transform(X_train)\n",
        "X_test = sc.transform(X_test)"
      ],
      "metadata": {
        "id": "9gOk5Cs0K47t"
      },
      "execution_count": null,
      "outputs": []
    },
    {
      "cell_type": "code",
      "source": [
        "X_train.shape"
      ],
      "metadata": {
        "colab": {
          "base_uri": "https://localhost:8080/"
        },
        "id": "6GCepSsQK6wv",
        "outputId": "7c1f9521-9388-4748-8bf2-dc3ceb07bf1e"
      },
      "execution_count": null,
      "outputs": [
        {
          "output_type": "execute_result",
          "data": {
            "text/plain": [
              "(455, 31)"
            ]
          },
          "metadata": {},
          "execution_count": 19
        }
      ]
    },
    {
      "cell_type": "code",
      "source": [
        "from sklearn.decomposition import PCA\n",
        "pca = PCA(n_components = 15)"
      ],
      "metadata": {
        "id": "VOTfC5pLK_ud"
      },
      "execution_count": null,
      "outputs": []
    },
    {
      "cell_type": "code",
      "source": [
        "X_train = pca.fit_transform(X_train)\n",
        "X_test = pca.transform(X_test)"
      ],
      "metadata": {
        "id": "LdnVeIWjK8Y8"
      },
      "execution_count": null,
      "outputs": []
    },
    {
      "cell_type": "code",
      "source": [
        "X_train.shape"
      ],
      "metadata": {
        "colab": {
          "base_uri": "https://localhost:8080/"
        },
        "id": "UxLIYl7vK-jJ",
        "outputId": "a5da2978-1347-4220-c434-a4a8acf68f5d"
      },
      "execution_count": null,
      "outputs": [
        {
          "output_type": "execute_result",
          "data": {
            "text/plain": [
              "(455, 15)"
            ]
          },
          "metadata": {},
          "execution_count": 22
        }
      ]
    },
    {
      "cell_type": "code",
      "source": [
        "X_train"
      ],
      "metadata": {
        "colab": {
          "base_uri": "https://localhost:8080/"
        },
        "id": "E-1pNtdaoJB0",
        "outputId": "8d14660b-5bee-4ea5-ed17-f357ad9e5849"
      },
      "execution_count": null,
      "outputs": [
        {
          "output_type": "execute_result",
          "data": {
            "text/plain": [
              "array([[-3.04383526,  1.10930642,  0.40747241, ..., -0.53622782,\n",
              "        -0.34271184,  0.19637803],\n",
              "       [-2.28680581,  0.40471059,  0.25987741, ..., -0.5087879 ,\n",
              "        -0.27073495,  0.26129669],\n",
              "       [-1.0882658 , -1.98296251, -1.22061763, ...,  0.12599413,\n",
              "         0.18615466,  0.10752884],\n",
              "       ...,\n",
              "       [-3.01429089,  0.22083396,  1.00297715, ...,  0.72985548,\n",
              "         0.22092281, -0.38890756],\n",
              "       [-5.61373724, -0.54206973,  4.11039214, ..., -1.7023544 ,\n",
              "        -0.24890969, -0.93887038],\n",
              "       [-1.02153198,  1.39956631,  1.33522744, ..., -0.60846567,\n",
              "        -0.01124463, -0.28125727]])"
            ]
          },
          "metadata": {},
          "execution_count": 23
        }
      ]
    },
    {
      "cell_type": "markdown",
      "source": [
        "**Applying Support Vector Machine (SVM) after PCA**"
      ],
      "metadata": {
        "id": "8BTWLVO9h6sm"
      }
    },
    {
      "cell_type": "code",
      "source": [
        "sm.fit(X_train,y_train)"
      ],
      "metadata": {
        "colab": {
          "base_uri": "https://localhost:8080/"
        },
        "id": "jIcLGdeXLeve",
        "outputId": "e401e3fe-5ee6-4622-f9cd-3205d64ab4be"
      },
      "execution_count": null,
      "outputs": [
        {
          "output_type": "execute_result",
          "data": {
            "text/plain": [
              "SVC()"
            ]
          },
          "metadata": {},
          "execution_count": 24
        }
      ]
    },
    {
      "cell_type": "code",
      "source": [
        "start = time.time()\n",
        "y_pred = sm.predict(X_test)\n",
        "print(time.time()-start)"
      ],
      "metadata": {
        "colab": {
          "base_uri": "https://localhost:8080/"
        },
        "id": "5dxQIrqCLuKe",
        "outputId": "49be7683-5173-4035-9e33-f008dab8611c"
      },
      "execution_count": null,
      "outputs": [
        {
          "output_type": "stream",
          "name": "stdout",
          "text": [
            "0.0030465126037597656\n"
          ]
        }
      ]
    },
    {
      "cell_type": "code",
      "source": [
        "acc = accuracy_score(y_test,y_pred)\n",
        "acc"
      ],
      "metadata": {
        "colab": {
          "base_uri": "https://localhost:8080/"
        },
        "id": "wfjzn0HILz2U",
        "outputId": "65b95ada-602f-49d1-fb1f-aa467b1cdba3"
      },
      "execution_count": null,
      "outputs": [
        {
          "output_type": "execute_result",
          "data": {
            "text/plain": [
              "0.9736842105263158"
            ]
          },
          "metadata": {},
          "execution_count": 26
        }
      ]
    },
    {
      "cell_type": "code",
      "source": [
        "pd.DataFrame({\"Actual\":y_test,\"Predicted\":y_pred})"
      ],
      "metadata": {
        "colab": {
          "base_uri": "https://localhost:8080/",
          "height": 424
        },
        "id": "pNEl5I3dMQgx",
        "outputId": "c308fa26-e8c0-4358-ee98-fe83a177badc"
      },
      "execution_count": null,
      "outputs": [
        {
          "output_type": "execute_result",
          "data": {
            "text/plain": [
              "    Actual Predicted\n",
              "512      M         M\n",
              "457      B         B\n",
              "439      B         B\n",
              "298      B         B\n",
              "37       B         B\n",
              "..     ...       ...\n",
              "213      M         M\n",
              "519      B         B\n",
              "432      M         M\n",
              "516      M         M\n",
              "500      B         B\n",
              "\n",
              "[114 rows x 2 columns]"
            ],
            "text/html": [
              "\n",
              "  <div id=\"df-681d59c8-f011-46b1-ab16-6972410f9bcc\">\n",
              "    <div class=\"colab-df-container\">\n",
              "      <div>\n",
              "<style scoped>\n",
              "    .dataframe tbody tr th:only-of-type {\n",
              "        vertical-align: middle;\n",
              "    }\n",
              "\n",
              "    .dataframe tbody tr th {\n",
              "        vertical-align: top;\n",
              "    }\n",
              "\n",
              "    .dataframe thead th {\n",
              "        text-align: right;\n",
              "    }\n",
              "</style>\n",
              "<table border=\"1\" class=\"dataframe\">\n",
              "  <thead>\n",
              "    <tr style=\"text-align: right;\">\n",
              "      <th></th>\n",
              "      <th>Actual</th>\n",
              "      <th>Predicted</th>\n",
              "    </tr>\n",
              "  </thead>\n",
              "  <tbody>\n",
              "    <tr>\n",
              "      <th>512</th>\n",
              "      <td>M</td>\n",
              "      <td>M</td>\n",
              "    </tr>\n",
              "    <tr>\n",
              "      <th>457</th>\n",
              "      <td>B</td>\n",
              "      <td>B</td>\n",
              "    </tr>\n",
              "    <tr>\n",
              "      <th>439</th>\n",
              "      <td>B</td>\n",
              "      <td>B</td>\n",
              "    </tr>\n",
              "    <tr>\n",
              "      <th>298</th>\n",
              "      <td>B</td>\n",
              "      <td>B</td>\n",
              "    </tr>\n",
              "    <tr>\n",
              "      <th>37</th>\n",
              "      <td>B</td>\n",
              "      <td>B</td>\n",
              "    </tr>\n",
              "    <tr>\n",
              "      <th>...</th>\n",
              "      <td>...</td>\n",
              "      <td>...</td>\n",
              "    </tr>\n",
              "    <tr>\n",
              "      <th>213</th>\n",
              "      <td>M</td>\n",
              "      <td>M</td>\n",
              "    </tr>\n",
              "    <tr>\n",
              "      <th>519</th>\n",
              "      <td>B</td>\n",
              "      <td>B</td>\n",
              "    </tr>\n",
              "    <tr>\n",
              "      <th>432</th>\n",
              "      <td>M</td>\n",
              "      <td>M</td>\n",
              "    </tr>\n",
              "    <tr>\n",
              "      <th>516</th>\n",
              "      <td>M</td>\n",
              "      <td>M</td>\n",
              "    </tr>\n",
              "    <tr>\n",
              "      <th>500</th>\n",
              "      <td>B</td>\n",
              "      <td>B</td>\n",
              "    </tr>\n",
              "  </tbody>\n",
              "</table>\n",
              "<p>114 rows × 2 columns</p>\n",
              "</div>\n",
              "      <button class=\"colab-df-convert\" onclick=\"convertToInteractive('df-681d59c8-f011-46b1-ab16-6972410f9bcc')\"\n",
              "              title=\"Convert this dataframe to an interactive table.\"\n",
              "              style=\"display:none;\">\n",
              "        \n",
              "  <svg xmlns=\"http://www.w3.org/2000/svg\" height=\"24px\"viewBox=\"0 0 24 24\"\n",
              "       width=\"24px\">\n",
              "    <path d=\"M0 0h24v24H0V0z\" fill=\"none\"/>\n",
              "    <path d=\"M18.56 5.44l.94 2.06.94-2.06 2.06-.94-2.06-.94-.94-2.06-.94 2.06-2.06.94zm-11 1L8.5 8.5l.94-2.06 2.06-.94-2.06-.94L8.5 2.5l-.94 2.06-2.06.94zm10 10l.94 2.06.94-2.06 2.06-.94-2.06-.94-.94-2.06-.94 2.06-2.06.94z\"/><path d=\"M17.41 7.96l-1.37-1.37c-.4-.4-.92-.59-1.43-.59-.52 0-1.04.2-1.43.59L10.3 9.45l-7.72 7.72c-.78.78-.78 2.05 0 2.83L4 21.41c.39.39.9.59 1.41.59.51 0 1.02-.2 1.41-.59l7.78-7.78 2.81-2.81c.8-.78.8-2.07 0-2.86zM5.41 20L4 18.59l7.72-7.72 1.47 1.35L5.41 20z\"/>\n",
              "  </svg>\n",
              "      </button>\n",
              "      \n",
              "  <style>\n",
              "    .colab-df-container {\n",
              "      display:flex;\n",
              "      flex-wrap:wrap;\n",
              "      gap: 12px;\n",
              "    }\n",
              "\n",
              "    .colab-df-convert {\n",
              "      background-color: #E8F0FE;\n",
              "      border: none;\n",
              "      border-radius: 50%;\n",
              "      cursor: pointer;\n",
              "      display: none;\n",
              "      fill: #1967D2;\n",
              "      height: 32px;\n",
              "      padding: 0 0 0 0;\n",
              "      width: 32px;\n",
              "    }\n",
              "\n",
              "    .colab-df-convert:hover {\n",
              "      background-color: #E2EBFA;\n",
              "      box-shadow: 0px 1px 2px rgba(60, 64, 67, 0.3), 0px 1px 3px 1px rgba(60, 64, 67, 0.15);\n",
              "      fill: #174EA6;\n",
              "    }\n",
              "\n",
              "    [theme=dark] .colab-df-convert {\n",
              "      background-color: #3B4455;\n",
              "      fill: #D2E3FC;\n",
              "    }\n",
              "\n",
              "    [theme=dark] .colab-df-convert:hover {\n",
              "      background-color: #434B5C;\n",
              "      box-shadow: 0px 1px 3px 1px rgba(0, 0, 0, 0.15);\n",
              "      filter: drop-shadow(0px 1px 2px rgba(0, 0, 0, 0.3));\n",
              "      fill: #FFFFFF;\n",
              "    }\n",
              "  </style>\n",
              "\n",
              "      <script>\n",
              "        const buttonEl =\n",
              "          document.querySelector('#df-681d59c8-f011-46b1-ab16-6972410f9bcc button.colab-df-convert');\n",
              "        buttonEl.style.display =\n",
              "          google.colab.kernel.accessAllowed ? 'block' : 'none';\n",
              "\n",
              "        async function convertToInteractive(key) {\n",
              "          const element = document.querySelector('#df-681d59c8-f011-46b1-ab16-6972410f9bcc');\n",
              "          const dataTable =\n",
              "            await google.colab.kernel.invokeFunction('convertToInteractive',\n",
              "                                                     [key], {});\n",
              "          if (!dataTable) return;\n",
              "\n",
              "          const docLinkHtml = 'Like what you see? Visit the ' +\n",
              "            '<a target=\"_blank\" href=https://colab.research.google.com/notebooks/data_table.ipynb>data table notebook</a>'\n",
              "            + ' to learn more about interactive tables.';\n",
              "          element.innerHTML = '';\n",
              "          dataTable['output_type'] = 'display_data';\n",
              "          await google.colab.output.renderOutput(dataTable, element);\n",
              "          const docLink = document.createElement('div');\n",
              "          docLink.innerHTML = docLinkHtml;\n",
              "          element.appendChild(docLink);\n",
              "        }\n",
              "      </script>\n",
              "    </div>\n",
              "  </div>\n",
              "  "
            ]
          },
          "metadata": {},
          "execution_count": 27
        }
      ]
    },
    {
      "cell_type": "code",
      "source": [
        "pca_df = pd.DataFrame({'X' : X_train[:,0],'Y' : X_train[:,1],'classification' : y_train})"
      ],
      "metadata": {
        "id": "FB_R3Hk1oegC"
      },
      "execution_count": null,
      "outputs": []
    },
    {
      "cell_type": "code",
      "source": [
        "pca_df.head()"
      ],
      "metadata": {
        "colab": {
          "base_uri": "https://localhost:8080/",
          "height": 206
        },
        "id": "klMjlgYHonaT",
        "outputId": "0c3f67a3-0d6c-4e97-a050-0de2fd2a988f"
      },
      "execution_count": null,
      "outputs": [
        {
          "output_type": "execute_result",
          "data": {
            "text/plain": [
              "            X         Y classification\n",
              "338 -3.043835  1.109306              B\n",
              "427 -2.286806  0.404711              B\n",
              "406 -1.088266 -1.982963              B\n",
              "96  -2.565492  0.183511              B\n",
              "490 -2.835862 -1.041556              B"
            ],
            "text/html": [
              "\n",
              "  <div id=\"df-f90e415a-414d-489f-9bae-98cdbadaf9d2\">\n",
              "    <div class=\"colab-df-container\">\n",
              "      <div>\n",
              "<style scoped>\n",
              "    .dataframe tbody tr th:only-of-type {\n",
              "        vertical-align: middle;\n",
              "    }\n",
              "\n",
              "    .dataframe tbody tr th {\n",
              "        vertical-align: top;\n",
              "    }\n",
              "\n",
              "    .dataframe thead th {\n",
              "        text-align: right;\n",
              "    }\n",
              "</style>\n",
              "<table border=\"1\" class=\"dataframe\">\n",
              "  <thead>\n",
              "    <tr style=\"text-align: right;\">\n",
              "      <th></th>\n",
              "      <th>X</th>\n",
              "      <th>Y</th>\n",
              "      <th>classification</th>\n",
              "    </tr>\n",
              "  </thead>\n",
              "  <tbody>\n",
              "    <tr>\n",
              "      <th>338</th>\n",
              "      <td>-3.043835</td>\n",
              "      <td>1.109306</td>\n",
              "      <td>B</td>\n",
              "    </tr>\n",
              "    <tr>\n",
              "      <th>427</th>\n",
              "      <td>-2.286806</td>\n",
              "      <td>0.404711</td>\n",
              "      <td>B</td>\n",
              "    </tr>\n",
              "    <tr>\n",
              "      <th>406</th>\n",
              "      <td>-1.088266</td>\n",
              "      <td>-1.982963</td>\n",
              "      <td>B</td>\n",
              "    </tr>\n",
              "    <tr>\n",
              "      <th>96</th>\n",
              "      <td>-2.565492</td>\n",
              "      <td>0.183511</td>\n",
              "      <td>B</td>\n",
              "    </tr>\n",
              "    <tr>\n",
              "      <th>490</th>\n",
              "      <td>-2.835862</td>\n",
              "      <td>-1.041556</td>\n",
              "      <td>B</td>\n",
              "    </tr>\n",
              "  </tbody>\n",
              "</table>\n",
              "</div>\n",
              "      <button class=\"colab-df-convert\" onclick=\"convertToInteractive('df-f90e415a-414d-489f-9bae-98cdbadaf9d2')\"\n",
              "              title=\"Convert this dataframe to an interactive table.\"\n",
              "              style=\"display:none;\">\n",
              "        \n",
              "  <svg xmlns=\"http://www.w3.org/2000/svg\" height=\"24px\"viewBox=\"0 0 24 24\"\n",
              "       width=\"24px\">\n",
              "    <path d=\"M0 0h24v24H0V0z\" fill=\"none\"/>\n",
              "    <path d=\"M18.56 5.44l.94 2.06.94-2.06 2.06-.94-2.06-.94-.94-2.06-.94 2.06-2.06.94zm-11 1L8.5 8.5l.94-2.06 2.06-.94-2.06-.94L8.5 2.5l-.94 2.06-2.06.94zm10 10l.94 2.06.94-2.06 2.06-.94-2.06-.94-.94-2.06-.94 2.06-2.06.94z\"/><path d=\"M17.41 7.96l-1.37-1.37c-.4-.4-.92-.59-1.43-.59-.52 0-1.04.2-1.43.59L10.3 9.45l-7.72 7.72c-.78.78-.78 2.05 0 2.83L4 21.41c.39.39.9.59 1.41.59.51 0 1.02-.2 1.41-.59l7.78-7.78 2.81-2.81c.8-.78.8-2.07 0-2.86zM5.41 20L4 18.59l7.72-7.72 1.47 1.35L5.41 20z\"/>\n",
              "  </svg>\n",
              "      </button>\n",
              "      \n",
              "  <style>\n",
              "    .colab-df-container {\n",
              "      display:flex;\n",
              "      flex-wrap:wrap;\n",
              "      gap: 12px;\n",
              "    }\n",
              "\n",
              "    .colab-df-convert {\n",
              "      background-color: #E8F0FE;\n",
              "      border: none;\n",
              "      border-radius: 50%;\n",
              "      cursor: pointer;\n",
              "      display: none;\n",
              "      fill: #1967D2;\n",
              "      height: 32px;\n",
              "      padding: 0 0 0 0;\n",
              "      width: 32px;\n",
              "    }\n",
              "\n",
              "    .colab-df-convert:hover {\n",
              "      background-color: #E2EBFA;\n",
              "      box-shadow: 0px 1px 2px rgba(60, 64, 67, 0.3), 0px 1px 3px 1px rgba(60, 64, 67, 0.15);\n",
              "      fill: #174EA6;\n",
              "    }\n",
              "\n",
              "    [theme=dark] .colab-df-convert {\n",
              "      background-color: #3B4455;\n",
              "      fill: #D2E3FC;\n",
              "    }\n",
              "\n",
              "    [theme=dark] .colab-df-convert:hover {\n",
              "      background-color: #434B5C;\n",
              "      box-shadow: 0px 1px 3px 1px rgba(0, 0, 0, 0.15);\n",
              "      filter: drop-shadow(0px 1px 2px rgba(0, 0, 0, 0.3));\n",
              "      fill: #FFFFFF;\n",
              "    }\n",
              "  </style>\n",
              "\n",
              "      <script>\n",
              "        const buttonEl =\n",
              "          document.querySelector('#df-f90e415a-414d-489f-9bae-98cdbadaf9d2 button.colab-df-convert');\n",
              "        buttonEl.style.display =\n",
              "          google.colab.kernel.accessAllowed ? 'block' : 'none';\n",
              "\n",
              "        async function convertToInteractive(key) {\n",
              "          const element = document.querySelector('#df-f90e415a-414d-489f-9bae-98cdbadaf9d2');\n",
              "          const dataTable =\n",
              "            await google.colab.kernel.invokeFunction('convertToInteractive',\n",
              "                                                     [key], {});\n",
              "          if (!dataTable) return;\n",
              "\n",
              "          const docLinkHtml = 'Like what you see? Visit the ' +\n",
              "            '<a target=\"_blank\" href=https://colab.research.google.com/notebooks/data_table.ipynb>data table notebook</a>'\n",
              "            + ' to learn more about interactive tables.';\n",
              "          element.innerHTML = '';\n",
              "          dataTable['output_type'] = 'display_data';\n",
              "          await google.colab.output.renderOutput(dataTable, element);\n",
              "          const docLink = document.createElement('div');\n",
              "          docLink.innerHTML = docLinkHtml;\n",
              "          element.appendChild(docLink);\n",
              "        }\n",
              "      </script>\n",
              "    </div>\n",
              "  </div>\n",
              "  "
            ]
          },
          "metadata": {},
          "execution_count": 29
        }
      ]
    },
    {
      "cell_type": "markdown",
      "source": [
        "**2D Plot Visualization after applying PCA**"
      ],
      "metadata": {
        "id": "3mxRRIuiiwjg"
      }
    },
    {
      "cell_type": "code",
      "source": [
        "plt.figure(figsize = (10,10))\n",
        "sns.scatterplot(x = 'X', y = 'Y', hue = 'classification', legend = 'full', data = pca_df)\n",
        "plt.show()"
      ],
      "metadata": {
        "colab": {
          "base_uri": "https://localhost:8080/",
          "height": 606
        },
        "id": "NB1_69MIoSgB",
        "outputId": "3b46a587-099f-45e9-8ad6-cc1f8d6d0c57"
      },
      "execution_count": null,
      "outputs": [
        {
          "output_type": "display_data",
          "data": {
            "text/plain": [
              "<Figure size 720x720 with 1 Axes>"
            ],
            "image/png": "[encoded data removed]"
          },
          "metadata": {
            "needs_background": "light"
          }
        }
      ]
    },
    {
      "cell_type": "markdown",
      "source": [
        "**3D Visualization after applying PCA**"
      ],
      "metadata": {
        "id": "ZchZscNiiead"
      }
    },
    {
      "cell_type": "code",
      "source": [
        "import plotly.express as px\n",
        "y_train_trf = y_train.astype('str')\n",
        "fig = px.scatter_3d(df,x = X_train[:,0],y = X_train[:,1],z = X_train[:,2],color = y_train_trf)\n",
        "fig.update_layout(margin = dict(l = 20,r=20,t=20,b=20))\n",
        "fig.show()"
      ],
      "metadata": {
        "colab": {
          "base_uri": "https://localhost:8080/",
          "height": 542
        },
        "id": "ZrMqIj3hMYZN",
        "outputId": "3845bc0d-ed81-4fb7-d7b6-4c13a4fc3ece"
      },
      "execution_count": null,
      "outputs": [
        {
          "output_type": "display_data",
          "data": {
            "text/html": [
              "<html>\n",
              "<head><meta charset=\"utf-8\" /></head>\n",
              "<body>\n",
              "    <div>            <script src=\"https://cdnjs.cloudflare.com/ajax/libs/mathjax/2.7.5/MathJax.js?config=TeX-AMS-MML_SVG\"></script><script type=\"text/javascript\">if (window.MathJax) {MathJax.Hub.Config({SVG: {font: \"STIX-Web\"}});}</script>                <script type=\"text/javascript\">window.PlotlyConfig = {MathJaxConfig: 'local'};</script>\n",
              "        <script src=\"https://cdn.plot.ly/plotly-2.8.3.min.js\"></script>                <div id=\"ad31eb21-44c4-4a60-8c14-025877bdeaf8\" class=\"plotly-graph-div\" style=\"height:525px; width:100%;\"></div>            <script type=\"text/javascript\">                                    window.PLOTLYENV=window.PLOTLYENV || {};                                    if (document.getElementById(\"ad31eb21-44c4-4a60-8c14-025877bdeaf8\")) {                    Plotly.newPlot(                        \"ad31eb21-44c4-4a60-8c14-025877bdeaf8\",                        [{\"hovertemplate\":\"color=B<br>x=%{x}<br>y=%{y}<br>z=%{z}<extra></extra>\",\"legendgroup\":\"B\",\"marker\":{\"color\":\"#636efa\",\"symbol\":\"circle\"},\"mode\":\"markers\",\"name\":\"B\",\"scene\":\"scene\",\"showlegend\":true,\"x\":[-3.0438352577903234,-2.2868058095147914,-1.0882657996859157,-2.5654917453304713,-2.8358615444223285,-2.241980048750098,-2.474398002670682,-2.8323465392366036,-0.8750011892612641,0.7163068416957946,-0.7895918482593454,-3.111376111230755,-2.628222290395581,-4.68769311155187,-3.8793113984503167,-3.8212790510790424,0.3807953115258728,1.378232414241256,-4.022210735859182,-1.2526595649640635,-1.3138242421851483,-3.087325251831709,-0.8090197302855708,-2.832418781373042,-3.218458617077512,-3.456856760104069,-3.3344674237186034,-3.154746084341327,-0.9378351558993999,3.664516942089474,4.303682651753989,-0.7695749955391958,-3.4257274478175876,-2.096847942469073,-3.893264797853982,-3.7787410291249524,-0.23034753805527805,-3.211310712284808,-0.5615360057062911,-2.4517153594919865,-3.5022085727959857,-2.1717119278352595,-3.532644747034204,-2.3827111889165042,-4.554163596531998,-3.8705775246953653,-1.5266217471802974,-3.7239213989282414,-1.6973310687310625,-1.5109034032595356,-2.353377367007633,-3.372154264066441,-1.1611861794885718,-1.3705695957717265,-4.316753929921955,-2.422859041551324,-1.9240400031655192,-1.2565834558653628,-3.1980013508486453,-2.167464941931416,-2.2149629228897267,-3.59548296579452,-4.340507675945539,-2.177097455646203,1.149738101846229,-2.1406780992921437,-0.9318630555266494,-4.730825694764723,-4.1150100954443944,-4.3697527128588725,-2.0746015923276877,-1.1216692236626287,-1.5528601391661587,-2.832396348758274,-2.795581898136064,-1.8143047847957816,-3.613782956301164,-1.8938740503460352,-4.843072580824,-1.1005077947591966,-1.7471213431947934,-3.104629328662224,-2.5444159204480292,-3.423033286497392,-2.584195768021576,-3.457955477424935,-2.800001456998899,-1.953321535336356,-2.2649698421351694,-4.671771670021276,-1.4211683430795303,-4.128828414073834,0.03473720949444851,-2.3112707470404215,-2.914069027061732,1.2532591998794724,-2.5245907646637646,-2.0959985607767493,-3.8123876241431773,-0.582187325556355,-4.064661090452395,-0.6006012613559505,-1.3262112340621635,-4.826920046603535,-2.78796108681859,-1.7156330893231249,-2.059421274403563,-3.1315385897503525,-4.615468668216765,-0.6830835904667218,-2.431371141329491,-2.343302012093048,-2.0810417882499324,-1.9947551745559793,-2.433667586218797,-2.1278158416191184,-1.9201016898237389,-2.8829773736085107,-3.262375087646494,-0.7097807987057692,-1.2872570285120324,-1.280774703779293,-3.824117046935446,-0.9114414841647186,-2.613395010813462,-2.9896816418480436,-4.451975228218172,-2.036279245941071,-2.459687541350985,-3.257129689419765,-2.68056845223076,1.1760243206705223,-1.5941114258291427,-1.107154140907053,-1.1707721544540985,-1.2544128120598932,-2.563871544048791,-2.3541171034841155,-2.0196221369237226,-2.7698611281114927,-2.1611777714482643,-3.6304711499267497,-0.6514834174807099,-0.8807965316663322,3.1598832018005805,-2.5694761891783044,-0.029128441615149648,-1.8916963714570498,-1.4833750488596085,-1.8603147358340162,-3.2875746854978627,-4.058491491808781,-2.5837103725426984,-1.1945943326544413,-4.003308484590766,1.0874168615963735,-2.7671359357980445,-2.5066069184508613,2.1002786672441895,-2.8432130169719327,-1.9391985875758966,-2.6875668347037838,-1.5195440033202299,-3.89587445778307,-0.1467237868079264,-3.3211843204613993,-3.204007688692431,-0.7284374791655421,-4.003461572227734,-3.476767767558003,-0.35477029401556637,-0.04002384398324942,-4.338214799635927,-1.9778934441054217,-1.1885373095101555,-1.7905207748516045,-1.970864753213587,-1.9866380575951614,-3.633446388187985,-4.594747174319698,-4.275336973374951,-3.1058430066075027,-2.992741587529542,-1.366946150249613,-2.5803607085489175,-1.3343149679910784,-2.4706024854956237,-3.0028968283807784,7.006418432680902,-0.4856594550344428,-2.1644447762507597,-2.6718569352945307,-1.0243280395676146,-1.9315264037568511,-1.2867040760043622,-1.0852558508983898,-2.5310323718670973,-2.882537587041166,-1.6075331757404152,-2.494775228324557,-1.183715156107917,-4.7550754208343164,-2.182516022124252,-0.7002496886455533,-0.7206215577895743,-3.841587891983086,-1.4157463536441872,-3.1009175807992104,-0.6303036642455598,-2.451715735528535,2.3424889167913148,-3.8529256453870797,-1.2475331976159132,-3.3155228408501736,-1.601309717528146,-5.397021811663691,-4.414361894223431,-0.45120228866132794,-1.439990655094303,-3.7106546077176987,-4.476029361065997,-2.8857758874821724,-3.519575089145209,-1.9874074392514738,-2.723065864165059,-1.6300832889197867,-4.397923860434289,-0.7223553248842439,-2.9504755057495045,-3.3221767496579893,-5.466770589105704,-3.0110800051793074,-1.847484083245176,-2.7866386459851022,-2.9328275239679598,-1.973389964345262,-0.33926220902483806,-2.303373386408685,-2.416713308472239,-2.770752417820144,-3.3979748765005824,-1.9171703972129515,-3.015946629759179,-2.8822545099592567,-1.376540376343549,-4.946858156010343,-0.02312018789922545,-1.2637835251293308,-1.926989936685625,-3.2235589465896375,-3.0690967265516567,-2.0779285277570785,-1.896262085504497,-1.8528995013079397,-1.8257492289503299,0.3799864286640386,-0.3098419471935257,-0.3231062526713027,-1.7918241702862903,-3.089066986633003,-2.144031946758441,-3.7443947898846113,-0.3510303789626486,-3.393660779336484,-0.4328384018611156,-3.614650968627068,-1.6855404237736555,1.486805571007968,-2.6207899461452078,-4.040727967124625,-1.833297591025957,0.28231480303506296,-2.318569363017074,-1.6117941942707483,0.40994098930644823,-0.297148433113713,0.4278428092736621,-1.1838324482190115,-0.8663196955226291,-1.9869073863006352,0.4230570027605555,-4.676382960382328,-2.0123395877712675,-2.22317500374529,-3.8116997199420983,-0.4046962093554163,-1.3357767806144891,-3.014290891248384,-5.613737237761092,-1.0215319801965663],\"y\":[1.1093064165445172,0.4047105887852469,-1.9829625087237785,0.18351142443020194,-1.0415562207606222,-0.9751707492778916,-0.1618054366612597,-0.5539634321105299,2.287166606083636,3.5390341098621425,-1.3038359591384567,0.3357703743035542,2.3233128458283896,-0.8495042037918363,0.752437281116247,-1.6269645012949137,2.1225037920939007,4.928782401799605,-0.358277909005438,-1.7945100596668677,3.61740459433432,-0.9827393670830786,1.948093313547965,-0.29393520284926006,1.0733411874561951,-2.700177882781629,-0.6084094146820144,-1.895084668147624,0.8653300174100849,4.147559585305097,9.499284119689142,0.050656991295410174,1.2514480096105096,-1.2155858754874633,-2.1345966497748328,-0.945324224272461,2.2796899747958514,-0.47869156011182323,0.674127674711929,-1.208561958494197,1.8003048984523902,1.2569194972725264,0.8606000189775468,-0.024888218096244072,3.426659535867737,1.162383662664988,0.5299061860709429,0.17355237945861338,0.751452265128034,-1.193454518040303,0.958239130667037,0.722849322685649,-1.3405219231037955,1.5064966538059137,-0.966471283886503,2.6845389894775855,1.8674746324630358,3.5211024490631035,-1.1827413381258123,-1.2836960219188902,-0.5047722949532384,0.6605762208965349,-0.420094217129802,-0.39668575685540647,8.44537734906666,-0.7121403977135325,0.9518683006383583,-1.9127595089748928,2.3208553298931704,-0.8621191447011703,1.5567974905170758,-0.5023089767901849,0.28009180930138294,0.07275112958726686,-1.078061911386617,-1.6264220473688342,-0.7579597799157425,0.8980377259971323,-2.1403011390462745,-1.6550240885054675,0.3746467812852101,-1.7308400903732322,0.2131972212444703,-0.5576496094105178,-0.7406689198024794,1.6366617538490018,-2.931224446551854,-0.17429424590403705,2.1261046295730157,-0.5097416170411163,0.12412553189902795,-1.4593808228656049,-0.21484702380360768,-0.7924933347909308,0.30071838931994394,2.5918403434036716,-2.1201909340936598,-0.797124231179016,0.4519421749064596,1.8081762665935537,0.09361198503174818,-1.0382011962667097,0.05680696449817645,-2.451500865039347,-1.010273320358275,-0.5505527406257089,3.7540829933520117,-2.1538642285361993,-0.8983502506614035,1.8438656228989894,-0.3867816235781517,3.2954905836765747,-0.06075358954524573,1.7063567502087853,-2.401439126611055,0.8864555655683987,-0.984267253624532,-1.716959139057892,0.14593526333691376,3.7128809631140487,-0.007858730332657432,4.977191544579028,0.8439597704888389,0.40905673218715394,-1.5849915119562303,0.3009337271286058,-1.84907766777004,1.785636282786021,3.2207487525469234,-3.234518658560918,-0.26874024669906493,7.219215680076474,-4.61309241811709,5.7243856060154945,1.5736632186097068,2.5693078479724583,-0.4862351189263283,-0.2729902233270275,0.3068546524519054,-1.0916328151188113,0.06650127611153564,-1.3568690659406317,-1.5676941471785046,0.9758220025335738,4.457336393220443,3.1342285868627107,-0.11653837014018592,-1.1407305868630508,0.4145877185488203,2.525562079711402,-1.5283962266856863,-0.6072757428411172,-1.8571064081315143,1.1083977680041348,-2.652649033731148,1.1943663154841526,1.072877416192367,-2.5084465732510246,6.635472329204303,-1.4420227406858686,-0.23720413711613877,1.385989159554213,-1.0697827695504245,0.7255679549271539,1.5345780855072302,-1.165649902430199,1.246671950093982,0.6637867367578889,1.1157687200354582,-0.6979308667675453,2.355267689890782,2.4039471149335476,-0.0988610178749984,-1.0884590412672241,4.120760540973727,-1.5436614107571722,-0.28366347968827776,-0.296841953764138,-1.3135091234520089,-1.9309406339255824,-2.066945903295038,-1.8278554089325256,-0.7453103615581821,-0.19799477897908727,-1.1660345682469913,0.4253386954042232,2.605998313848627,-2.296567414043973,13.005347343630241,1.2786348937018839,0.6721236999226887,1.4122848288209882,1.901774876327725,1.3410692219792637,0.8483684773518508,-1.4426979605369676,0.6828751947647408,-0.5177531563901799,0.8365025042263612,-0.8077810790191616,-0.1913427065485286,-0.6463375710391118,-1.3411997950194277,3.220184731429842,-2.0982960558557973,0.4154115139801118,-1.5702265200389813,-1.940194542310656,1.7627542428242877,-2.0689497304733426,4.544021686130029,1.0618193021424631,0.872997531704656,-0.8828590076076988,1.7498918045384149,0.4590624769473382,-3.164368572898635,-0.9377533649466635,1.6856160498170447,-1.8616514946907163,-3.265917712726449,0.3257298202312283,-1.3447322794496896,-2.5141112877950325,-2.2048992207025035,2.4463961610060028,-0.8718184795945604,-0.08463166346297213,1.7595594503907734,-0.07130594448782303,-0.7693970020257547,-2.2052864720465184,1.3802625484293627,-0.4407245196471631,-0.714097069853498,0.41727812689958704,2.1937419369393063,0.6864499810476445,0.5385451423757059,0.307932338636791,-2.512052754883211,1.4045195817927025,-0.21997262530538017,-0.0663873511116856,1.400776320644022,-3.4780588976684075,-0.13378088718805403,1.5263460095544028,-1.8754531683975988,-0.9969125447660628,-0.321802045125717,0.044866896167666065,2.5520717500282215,-0.6743073545256076,-0.940936121829043,1.6363339000962531,-0.6273832842132427,-0.39479536675166066,-0.12013500525189799,-0.8394682863696975,0.46686998841460803,-0.3996929999461932,-0.7845019467906986,-2.2472257101766693,3.8093129091410405,1.5588556984334578,0.9803991794219349,1.3928793358002935,0.5464639841942689,-0.5156784970151292,1.6963629801168363,7.002693828611865,-1.6757224582700123,-0.21282388935397975,3.904819570259367,0.15003802424957596,1.1523230692134114,-1.5628716193691243,2.5273215185714974,0.2920486956157198,3.6444071425679168,-0.32014020656899994,1.250567683437427,-2.497499229658214,4.397237147368908,0.11592187785494029,-1.79444920891756,0.22083395608103262,-0.5420697273677217,1.3995663072927915],\"z\":[0.407472406807604,0.2598774144260985,-1.2206176269679077,1.0720024887821389,-0.8045043551976551,-1.1274297039569432,1.879814201064207,-0.38160671969788607,-1.5105909625399085,0.6670131108320448,0.41202917462311356,-1.041204535416792,-0.03548128772448415,1.569900959511927,1.1235591858409868,-1.1366301799818905,-2.1097789504021307,-0.7031379182638802,-1.2586431966686857,0.3157567189147558,1.7698152915159708,-2.123551915013206,0.98139494745308,-0.45293108497576146,1.7055719157281521,-0.08790134869912113,-0.19675859334922965,0.08944146561800058,2.368048819318436,1.9604573800156646,1.5107697671224316,-2.7671581989527896,0.04488850045930326,0.527221697924417,0.7550580246605928,0.4332031202348534,-0.014091581025620836,-0.6718207661192236,-0.4961988369596248,0.32500901645616026,2.7985661044192742,-0.859275849748428,0.2802430960834166,-0.7825483792057688,-0.090621714023531,1.5658798568150927,-1.7648182006836,0.00022389843470458888,-1.9854966142547628,-0.41725421265686047,-0.743565857934902,1.8128657483631954,-0.9104686141601893,-0.2693033389129565,0.644382396465127,1.3747235256988362,-2.0321574938504288,1.148303227365083,0.23050618850549845,-0.10053502764950012,-0.43794468080203847,-1.0407620466049354,0.4813633085726273,-1.0820819115940448,0.5674612400918365,0.21052109851066808,-0.8208098258998984,0.2155235503932907,-1.1316693415145163,-0.3645243754375021,0.1603726999832512,-0.4172132958580617,-1.5848938893873972,0.5458688953810862,-1.4736417814030596,1.2837142445458953,-0.8690975172878771,0.069817302738683,3.299156771927424,-0.7086967652514593,-1.2076363046119478,-0.5351236163121327,1.4166446622397424,-0.11670659355773316,-0.5787651416088773,2.7548775897804463,0.5054044561681191,0.42578776628041093,2.5049405125414386,-0.015564721672857938,-0.20629717095449973,0.9074238335036298,-2.203528453524563,-1.512799229175332,-2.0107695840857236,-1.8929971491130564,-0.3058662211898252,0.4920249889992986,0.9290560714486688,1.5433703702916872,3.2365929871852486,1.1003342797364086,1.520496857176548,-0.16821648962990218,-0.3701821844375244,3.3022137243093868,3.67910753810287,-1.000941343726699,0.25547863372478463,-0.557542219716487,-1.4783581071997824,2.865845818534986,0.017154418855550507,1.7787543214503614,-0.469562269016174,-0.08007216211198089,-0.07519335507437012,0.2751166523301232,-0.5994707244430111,0.7421720877173449,1.1060588258212936,0.5227344929024003,0.7592764209011492,-1.3812961900409344,-1.681962170577746,1.3115112957633615,-0.8766828707555341,-1.1149402633727543,-1.630855572264658,0.20852376335340042,-0.29845408524920747,4.251222086410841,0.7973130503427074,1.2875256196157499,-1.2872780949628457,-0.05593969389586538,1.8653898153178836,-0.32660802337128725,-0.12937593609695347,0.825746802802132,0.5496047596278388,0.37802172373172876,-0.6398367464934137,-0.07018061778780099,5.860900299784222,1.4737265943917823,-1.6533808261745888,0.45240758159939926,0.6102737448304669,2.1403468086669424,-0.5408632033087869,2.234696992647866,0.745142360292355,0.2458889856521431,0.3813407959262844,-0.7009955116242227,1.7153799213203549,0.10197267275653026,1.2320785283898898,0.7174506980253194,-1.6289182280949508,1.0256691268641978,-1.2727232412020977,2.1835525199191097,-2.2159273137635007,0.1691869655180739,-0.20296234313701403,-0.616195934659626,0.2546527219836021,0.6120707191569885,0.6301608151840733,2.11237619447528,-0.8713201830913769,1.2862815818536353,-0.2883099132641762,0.7190389169084355,-0.643586772679522,0.5886872600401345,1.4490504867894194,0.051553371721767056,-0.2480265637422113,-0.0067094298436378465,0.40311757013045296,-1.1431446654544102,-1.2190730881111413,2.4295007975705216,1.7450227459213077,-0.5067370291843751,7.389420617342147,-0.9142132373693223,-1.1013158491395392,0.3870803039267703,1.6698617964459834,1.2095947795960371,1.2130741650731092,-0.5157123149924474,-0.5107736241573047,-1.0534503997268565,-0.9631631459539352,-1.6310964342706307,-0.52464107011906,0.922545808349934,-0.8987446916080738,1.4661159176771255,0.32163070753348916,-0.7794224477288455,0.2887405032679931,-0.6770099294269806,0.9650215430192572,-0.7038312441372117,1.7758636783035855,1.915158994970707,3.2059126781512908,-0.7687481153284084,0.45270868329176717,0.6136083040837451,1.4762944373949296,-0.39543337833414005,1.2089797905198172,1.3145881406053042,-0.20174351928151713,-0.8659976148942986,1.0160107966119716,-1.4569022952070918,0.011006998919549897,1.5450065999832199,-0.4880865543114585,-1.0671820010068709,-0.1592153908145043,0.5153669870086359,1.4650575354279063,-0.3705319678323478,-1.0034379436564722,-0.318213861903804,-0.6241883030226527,-0.060230786116066436,-0.9561697369553408,1.1506498452909377,-1.0898722620027137,-1.3036465751550916,0.03373403854640819,-0.001789495330314012,0.61596595420937,-0.8633933739413118,-0.7853336861434341,0.3784978996617957,0.2893044473984156,0.834989339203276,-0.2639393831281061,0.25991962885170816,1.2310916683263042,-1.451711049122446,-0.9989760649403797,1.4747724945183052,-0.8320535349504403,2.9363651505044923,-1.3243370356211417,-0.9885343496316202,-1.4258779127718528,-0.8001807717718986,-0.9059832989653098,-1.0656478528493303,-1.1158513501073515,0.2647410843613871,1.9374969179968269,0.8162124675730376,-0.007004033059316919,0.6910630699898772,1.6987117503059068,0.5599876499052385,0.10315006990804632,0.3968033255514681,0.30026998205964317,-0.169468666520547,4.638371174900223,-1.037350011184199,2.252267826690645,-0.3874040607688548,0.3844059834474333,-0.5401908492349934,0.0736249209748021,1.6476522713943842,0.4922942138877693,-0.8572021042846728,4.120558571189553,-0.9966781425845149,-1.493205205794237,1.0029771504448557,4.110392139359482,1.3352274388928722],\"type\":\"scatter3d\"},{\"hovertemplate\":\"color=M<br>x=%{x}<br>y=%{y}<br>z=%{z}<extra></extra>\",\"legendgroup\":\"M\",\"marker\":{\"color\":\"#EF553B\",\"symbol\":\"circle\"},\"mode\":\"markers\",\"name\":\"M\",\"scene\":\"scene\",\"showlegend\":true,\"x\":[6.569177716642891,6.2755086821976915,3.1316490786010514,-0.6549375694137248,8.496226192028567,6.235989257732268,3.8441931176868596,-0.7095331180504794,1.8989137219471754,-0.5674931921665003,4.231740158599664,5.016966200639317,2.564240316235334,3.375367982000232,2.2269802711865454,2.8655106343972756,0.44316081479588687,-0.6011778779989784,6.139809344089453,-0.366388884424857,4.70422614121446,2.31541916676186,3.272145533867165,7.206873388186312,9.155261541057412,-0.9811328653655828,-0.7919702824222458,7.423710627628924,3.8739632771602626,5.202833357693038,7.297130288077867,8.840225773812467,3.309622287607733,2.8672789091355897,-0.8999357008937439,3.0747208099574936,5.026879613662736,4.3959863051204895,3.6274798960140457,1.256037756281643,4.014417499672896,9.144208975161757,3.907212694291901,3.9100932260964605,2.465301219369362,1.3846253113021594,2.141479035548253,-1.9234905406247262,12.905212473250163,4.800602425933514,3.4676971535700156,4.844431889295316,5.558716588720439,3.318193915345727,7.783203391608189,3.5645146691509115,0.8760757090723921,6.233788615003231,1.396677269518712,2.8640907642384548,5.8307826658911335,2.408373910268588,4.488771595415467,5.158951662553437,2.8078382353738434,1.066533161394641,3.788548611738506,0.525524227494854,5.0981348033373655,-0.18776050185499688,1.338382048843992,4.9901514125264175,7.231748873613131,-2.36124620382643,-0.2774368998697948,2.830024909234163,1.7636755685318124,3.6835240775471885,3.110055653928885,4.172627856914734,3.7748674683899757,12.194683872191039,4.586920737710089,1.3928469050648187,2.5440334800955755,3.84689660950878,5.017999401763139,6.654923537357969,1.8782131077906645,4.736958428176834,4.073703376318937,-2.0999996356616526,0.4001499273973286,0.3890783585262756,3.379374913776387,3.772808028440802,3.424163729046659,5.120740887667894,3.205264371886967,7.155238169412738,0.28929654667796706,0.7611231233147737,2.7061017285020132,3.4709881131717304,11.033194487821536,1.9803214283232766,7.310078100477426,2.3326997102686864,7.200556144155355,3.3625741581047723,5.063540742378567,6.289790579476239,-0.3099538098414625,5.242108563503348,0.8240266933242818,4.648290596941016,8.81904019283911,2.7337148833860114,0.660649831689204,1.369445903810651,1.8639086888219534,-0.0027806010345204782,8.728451963712038,2.598039388423707,4.864288521036412,4.275557939140793,4.2090734160918615,1.0651289522507676,4.276697889330667,9.25464390414895,1.739715091136344,5.318870780197125,16.457456124433037,7.343716593834406,6.502334749331199,2.8788475091946495,1.29939227383317,4.436031092719491,3.604325559712841,0.4707516324045848,9.618502953942183,1.51366592210098,1.7850084808142253,4.638061381841187,0.32102264422838095,10.919617876351866,5.102434881658145,0.82998076158322,2.251280194418648,1.8736313704159042,5.3587898393008055,9.11568396617581,3.38846430043595,3.336796952239813,0.6337751655937246,4.115711954011258,3.875135825920884,6.667481228065688,3.078829406405303,0.6893202053623821,5.613576388119745,3.674527634663257,2.7645478342865824,0.07907925458993717,6.516270198310475],\"y\":[8.332594348634823,-1.155048872048835,-1.123222099141796,-1.9518703421628085,-3.9191272461298294,-1.849355898473367,-3.4058730485205713,-2.4615013070076768,0.8069372016210871,-0.887598928745568,0.9173540958611385,-1.1423004416949374,-1.320942589349873,-0.021253138483245303,2.409540509390123,-0.9982530087063257,-3.5515186496984406,-2.0959598205636585,-0.5723100771231683,-1.3515893734498499,-2.158590261768408,-2.6125578600640127,3.4958682151477443,0.7951463462336789,-0.3174655641708343,-3.3505031267408762,-3.476449502995368,-5.03529108496776,-1.7654188403216273,-1.8371637764563318,-5.299477229859673,-0.3132394706336016,-0.8484614024874048,3.6023103738794435,-1.6750404834439512,0.8547077492591967,-3.946337230927891,-4.506965273543197,2.304693642667511,-1.9648924131126535,-1.832682503027688,0.8460220392760163,6.146769086753293,2.488553544472817,4.035428020996011,-1.213258689769684,1.2349065913354922,-0.40096578959035295,2.7508250441855364,3.4666009460198333,-2.221123555015403,-1.3265839995184707,-3.9786912459753387,4.1568214057355535,-0.6390664539041333,-2.1342513665784355,0.9491235873684457,5.341796886247009,-1.7205923147085442,3.527964796002817,-0.9240557581836917,4.940916015548971,-0.7973601614052814,-1.6237736302104095,-3.836364784176456,-2.162485861851337,-2.700199957667871,0.4264257569042936,-0.9661704504480031,-0.15761554947992143,0.43481989868443577,-2.691782146230986,0.25992537032141866,-0.8487357025668395,0.124435226319053,-0.25135328364253806,-1.4705516286884386,-1.8411994889889913,-1.718762538561187,-0.22916025250305735,0.9784049657334909,-7.332450797099689,-4.184914423937161,2.243834338619165,2.764772547772048,1.2064177215525538,-1.410800800028558,-1.296837224446004,0.23485421947890972,-1.3150535818470044,-2.830677189560485,-1.9508545548773146,-3.0840304518998547,-0.8739887634481106,-1.1968661636969697,-0.9211810997116023,-2.7896415980553226,0.9900333619380268,1.671499259643633,2.1960971122930486,-1.5219448770230068,0.49320001313122125,-3.8186378759241935,-3.2410484187709123,-3.4198597926340737,-2.3226192710533473,0.15833338921392878,-0.2599739721819167,10.477864241887227,-1.6375635458113824,-1.1656030510741506,1.09249103514159,-0.9749766135508353,-2.2371192266733977,-1.5487270135893618,0.46177808702193585,3.588600645130389,0.1445631991027781,0.24275020816228768,0.9952441414610044,2.9216441110768607,2.3106172754550145,-3.25404246360729,-2.3788946286808397,3.2154600876092063,-4.984236010956121,3.0257817652583237,1.0287741208545118,1.3418600880949134,2.15664690810405,-2.018786065743441,-6.588926936330665,-7.6710756326875424,-3.4888826781474847,-1.6442289127534575,0.6900915235639904,-2.3462102063523322,-1.9609873456471048,-3.745386904338794,-2.769864710133654,-5.328486989494812,-1.0022760558770496,2.428137297214302,3.256851201008033,-0.4468215644748521,-1.9114814910699136,3.2281545994098604,-2.2781321735409947,1.0534683995059169,-4.25977882408406,4.0685091819960935,2.335020424917624,-1.4744614621955032,-1.05682819483511,0.441595178952411,0.6770400722556488,-0.8492658312932146,-5.82363374673594,0.8369232489448648,0.7399529409243684,1.1387087926169142,-2.11066239045471,-4.356496603623988,-3.4097885324765578,7.985462173763851],\"z\":[-0.4289305002684315,2.7141343977694503,1.3339779391654352,-0.2571262191309825,0.061194635816324734,-1.5295249866454164,2.0287239905430012,-2.025787113905557,-1.472549760408679,-2.2025360154274076,-0.8706283716851757,0.8529070035542954,0.4853238813856513,-2.8754285373983794,-0.7995302689283612,-1.129392838226573,-2.2567054775073174,-1.4459716165964804,-0.34944091604592603,-0.13058869518734711,-0.7050595261636207,-1.653753668443252,-3.0989733837655518,-1.310284047995046,0.21065357639735313,4.314310758653844,0.1363161838453573,0.3398456939093965,-1.747234955043204,-0.728364986055558,1.9245298757259557,0.9039940288999146,2.5440895432063453,-2.50175398797712,-0.35791859505837126,-3.513555795812056,-0.3339836526980268,-0.09844999388364097,-3.9546259846170524,0.9861589103474311,1.5254235116457973,-3.194238301177171,-4.918333037758824,0.040125999334872514,-2.8790436992406105,0.5848587843191484,1.8387697545046093,-0.41342484143547575,6.5419070779637405,-1.4015359310419768,-1.212495705192,-1.253175036076998,-0.6364680043040901,-2.656580305524785,-2.1460729283511606,-1.3262736571119216,-2.746274714370421,0.5934877060603251,-1.6600598752322258,-0.7439627320915512,-0.4876216913146339,-0.9445629920394938,1.4350919210554751,1.1453601964891684,-0.03930992282275599,-1.7080668766335465,-1.7464600381783255,-0.9689489120760081,-2.650500127575917,-3.298391768452921,-3.849544574892979,0.9289765175032649,2.0979050266786943,2.0043509478684918,-2.045743207604554,-1.8945532224962798,0.1776267835762865,1.3360236415397706,2.6024262226087367,1.481427775288899,3.799266475658898,10.386706730202702,0.2443337607336928,-1.7926897032499067,0.2198317138325848,-3.5970878678712412,-1.683677535145788,0.39469991323604336,-2.6410938839009885,-1.1926341525357929,1.7247992758691897,-1.2279962044289767,-0.17726879435641002,1.7066984469581143,0.7812505096660343,0.5528138881024037,3.073477081726243,2.6434633157241563,-2.574429873052871,0.1031737751680818,-0.8155881742449579,-2.7115207833562796,1.3355073500690624,-1.8251729075400531,-0.835472535160538,-1.680349902780845,-2.7809054783637204,-1.0442666086746897,-3.111172167272268,-1.8774123782914847,-1.4809919415603916,0.14876432436471154,-2.6403190818523203,-0.39706970431218336,-1.5662149356590982,-0.6634822727177963,2.9492550756725846,-1.50982467643006,1.6928729363403947,-1.6051266326098228,-1.0084179358992047,-1.897672264571588,-0.12436677936547914,0.8080392116847847,-0.19651863094591307,-0.7959041625006188,-0.5654814654419117,-2.309872995039403,-1.6007393871745401,-0.9961419159993689,-1.0128176092365249,1.5434478306692079,6.8283019572076,-0.1408342126647485,0.44594691302946465,-0.5979552092169566,2.4298475021981987,0.5642752838381724,-1.0117968210227972,0.4741003672793635,-0.6508000849274114,-1.2259383343142751,-3.0542676010104817,-2.2601577583026935,0.5903124455410619,-0.016621553107563625,-1.8290320816700347,0.6199112500288723,-1.9646332334034757,0.3368864254388474,-0.7517269417312056,2.085847107571792,1.4133684418595496,0.8885970614705598,-0.43707958455767426,-2.8181291401715165,0.908389449978676,0.9715663922779848,-1.0457973086669594,-0.2317075348133267,-2.2943961013275858,-1.6923318520750157,0.2916277760819919,0.31252790206099373,-4.431999517982091],\"type\":\"scatter3d\"}],                        {\"template\":{\"data\":{\"bar\":[{\"error_x\":{\"color\":\"#2a3f5f\"},\"error_y\":{\"color\":\"#2a3f5f\"},\"marker\":{\"line\":{\"color\":\"#E5ECF6\",\"width\":0.5},\"pattern\":{\"fillmode\":\"overlay\",\"size\":10,\"solidity\":0.2}},\"type\":\"bar\"}],\"barpolar\":[{\"marker\":{\"line\":{\"color\":\"#E5ECF6\",\"width\":0.5},\"pattern\":{\"fillmode\":\"overlay\",\"size\":10,\"solidity\":0.2}},\"type\":\"barpolar\"}],\"carpet\":[{\"aaxis\":{\"endlinecolor\":\"#2a3f5f\",\"gridcolor\":\"white\",\"linecolor\":\"white\",\"minorgridcolor\":\"white\",\"startlinecolor\":\"#2a3f5f\"},\"baxis\":{\"endlinecolor\":\"#2a3f5f\",\"gridcolor\":\"white\",\"linecolor\":\"white\",\"minorgridcolor\":\"white\",\"startlinecolor\":\"#2a3f5f\"},\"type\":\"carpet\"}],\"choropleth\":[{\"colorbar\":{\"outlinewidth\":0,\"ticks\":\"\"},\"type\":\"choropleth\"}],\"contour\":[{\"colorbar\":{\"outlinewidth\":0,\"ticks\":\"\"},\"colorscale\":[[0.0,\"#0d0887\"],[0.1111111111111111,\"#46039f\"],[0.2222222222222222,\"#7201a8\"],[0.3333333333333333,\"#9c179e\"],[0.4444444444444444,\"#bd3786\"],[0.5555555555555556,\"#d8576b\"],[0.6666666666666666,\"#ed7953\"],[0.7777777777777778,\"#fb9f3a\"],[0.8888888888888888,\"#fdca26\"],[1.0,\"#f0f921\"]],\"type\":\"contour\"}],\"contourcarpet\":[{\"colorbar\":{\"outlinewidth\":0,\"ticks\":\"\"},\"type\":\"contourcarpet\"}],\"heatmap\":[{\"colorbar\":{\"outlinewidth\":0,\"ticks\":\"\"},\"colorscale\":[[0.0,\"#0d0887\"],[0.1111111111111111,\"#46039f\"],[0.2222222222222222,\"#7201a8\"],[0.3333333333333333,\"#9c179e\"],[0.4444444444444444,\"#bd3786\"],[0.5555555555555556,\"#d8576b\"],[0.6666666666666666,\"#ed7953\"],[0.7777777777777778,\"#fb9f3a\"],[0.8888888888888888,\"#fdca26\"],[1.0,\"#f0f921\"]],\"type\":\"heatmap\"}],\"heatmapgl\":[{\"colorbar\":{\"outlinewidth\":0,\"ticks\":\"\"},\"colorscale\":[[0.0,\"#0d0887\"],[0.1111111111111111,\"#46039f\"],[0.2222222222222222,\"#7201a8\"],[0.3333333333333333,\"#9c179e\"],[0.4444444444444444,\"#bd3786\"],[0.5555555555555556,\"#d8576b\"],[0.6666666666666666,\"#ed7953\"],[0.7777777777777778,\"#fb9f3a\"],[0.8888888888888888,\"#fdca26\"],[1.0,\"#f0f921\"]],\"type\":\"heatmapgl\"}],\"histogram\":[{\"marker\":{\"pattern\":{\"fillmode\":\"overlay\",\"size\":10,\"solidity\":0.2}},\"type\":\"histogram\"}],\"histogram2d\":[{\"colorbar\":{\"outlinewidth\":0,\"ticks\":\"\"},\"colorscale\":[[0.0,\"#0d0887\"],[0.1111111111111111,\"#46039f\"],[0.2222222222222222,\"#7201a8\"],[0.3333333333333333,\"#9c179e\"],[0.4444444444444444,\"#bd3786\"],[0.5555555555555556,\"#d8576b\"],[0.6666666666666666,\"#ed7953\"],[0.7777777777777778,\"#fb9f3a\"],[0.8888888888888888,\"#fdca26\"],[1.0,\"#f0f921\"]],\"type\":\"histogram2d\"}],\"histogram2dcontour\":[{\"colorbar\":{\"outlinewidth\":0,\"ticks\":\"\"},\"colorscale\":[[0.0,\"#0d0887\"],[0.1111111111111111,\"#46039f\"],[0.2222222222222222,\"#7201a8\"],[0.3333333333333333,\"#9c179e\"],[0.4444444444444444,\"#bd3786\"],[0.5555555555555556,\"#d8576b\"],[0.6666666666666666,\"#ed7953\"],[0.7777777777777778,\"#fb9f3a\"],[0.8888888888888888,\"#fdca26\"],[1.0,\"#f0f921\"]],\"type\":\"histogram2dcontour\"}],\"mesh3d\":[{\"colorbar\":{\"outlinewidth\":0,\"ticks\":\"\"},\"type\":\"mesh3d\"}],\"parcoords\":[{\"line\":{\"colorbar\":{\"outlinewidth\":0,\"ticks\":\"\"}},\"type\":\"parcoords\"}],\"pie\":[{\"automargin\":true,\"type\":\"pie\"}],\"scatter\":[{\"marker\":{\"colorbar\":{\"outlinewidth\":0,\"ticks\":\"\"}},\"type\":\"scatter\"}],\"scatter3d\":[{\"line\":{\"colorbar\":{\"outlinewidth\":0,\"ticks\":\"\"}},\"marker\":{\"colorbar\":{\"outlinewidth\":0,\"ticks\":\"\"}},\"type\":\"scatter3d\"}],\"scattercarpet\":[{\"marker\":{\"colorbar\":{\"outlinewidth\":0,\"ticks\":\"\"}},\"type\":\"scattercarpet\"}],\"scattergeo\":[{\"marker\":{\"colorbar\":{\"outlinewidth\":0,\"ticks\":\"\"}},\"type\":\"scattergeo\"}],\"scattergl\":[{\"marker\":{\"colorbar\":{\"outlinewidth\":0,\"ticks\":\"\"}},\"type\":\"scattergl\"}],\"scattermapbox\":[{\"marker\":{\"colorbar\":{\"outlinewidth\":0,\"ticks\":\"\"}},\"type\":\"scattermapbox\"}],\"scatterpolar\":[{\"marker\":{\"colorbar\":{\"outlinewidth\":0,\"ticks\":\"\"}},\"type\":\"scatterpolar\"}],\"scatterpolargl\":[{\"marker\":{\"colorbar\":{\"outlinewidth\":0,\"ticks\":\"\"}},\"type\":\"scatterpolargl\"}],\"scatterternary\":[{\"marker\":{\"colorbar\":{\"outlinewidth\":0,\"ticks\":\"\"}},\"type\":\"scatterternary\"}],\"surface\":[{\"colorbar\":{\"outlinewidth\":0,\"ticks\":\"\"},\"colorscale\":[[0.0,\"#0d0887\"],[0.1111111111111111,\"#46039f\"],[0.2222222222222222,\"#7201a8\"],[0.3333333333333333,\"#9c179e\"],[0.4444444444444444,\"#bd3786\"],[0.5555555555555556,\"#d8576b\"],[0.6666666666666666,\"#ed7953\"],[0.7777777777777778,\"#fb9f3a\"],[0.8888888888888888,\"#fdca26\"],[1.0,\"#f0f921\"]],\"type\":\"surface\"}],\"table\":[{\"cells\":{\"fill\":{\"color\":\"#EBF0F8\"},\"line\":{\"color\":\"white\"}},\"header\":{\"fill\":{\"color\":\"#C8D4E3\"},\"line\":{\"color\":\"white\"}},\"type\":\"table\"}]},\"layout\":{\"annotationdefaults\":{\"arrowcolor\":\"#2a3f5f\",\"arrowhead\":0,\"arrowwidth\":1},\"autotypenumbers\":\"strict\",\"coloraxis\":{\"colorbar\":{\"outlinewidth\":0,\"ticks\":\"\"}},\"colorscale\":{\"diverging\":[[0,\"#8e0152\"],[0.1,\"#c51b7d\"],[0.2,\"#de77ae\"],[0.3,\"#f1b6da\"],[0.4,\"#fde0ef\"],[0.5,\"#f7f7f7\"],[0.6,\"#e6f5d0\"],[0.7,\"#b8e186\"],[0.8,\"#7fbc41\"],[0.9,\"#4d9221\"],[1,\"#276419\"]],\"sequential\":[[0.0,\"#0d0887\"],[0.1111111111111111,\"#46039f\"],[0.2222222222222222,\"#7201a8\"],[0.3333333333333333,\"#9c179e\"],[0.4444444444444444,\"#bd3786\"],[0.5555555555555556,\"#d8576b\"],[0.6666666666666666,\"#ed7953\"],[0.7777777777777778,\"#fb9f3a\"],[0.8888888888888888,\"#fdca26\"],[1.0,\"#f0f921\"]],\"sequentialminus\":[[0.0,\"#0d0887\"],[0.1111111111111111,\"#46039f\"],[0.2222222222222222,\"#7201a8\"],[0.3333333333333333,\"#9c179e\"],[0.4444444444444444,\"#bd3786\"],[0.5555555555555556,\"#d8576b\"],[0.6666666666666666,\"#ed7953\"],[0.7777777777777778,\"#fb9f3a\"],[0.8888888888888888,\"#fdca26\"],[1.0,\"#f0f921\"]]},\"colorway\":[\"#636efa\",\"#EF553B\",\"#00cc96\",\"#ab63fa\",\"#FFA15A\",\"#19d3f3\",\"#FF6692\",\"#B6E880\",\"#FF97FF\",\"#FECB52\"],\"font\":{\"color\":\"#2a3f5f\"},\"geo\":{\"bgcolor\":\"white\",\"lakecolor\":\"white\",\"landcolor\":\"#E5ECF6\",\"showlakes\":true,\"showland\":true,\"subunitcolor\":\"white\"},\"hoverlabel\":{\"align\":\"left\"},\"hovermode\":\"closest\",\"mapbox\":{\"style\":\"light\"},\"paper_bgcolor\":\"white\",\"plot_bgcolor\":\"#E5ECF6\",\"polar\":{\"angularaxis\":{\"gridcolor\":\"white\",\"linecolor\":\"white\",\"ticks\":\"\"},\"bgcolor\":\"#E5ECF6\",\"radialaxis\":{\"gridcolor\":\"white\",\"linecolor\":\"white\",\"ticks\":\"\"}},\"scene\":{\"xaxis\":{\"backgroundcolor\":\"#E5ECF6\",\"gridcolor\":\"white\",\"gridwidth\":2,\"linecolor\":\"white\",\"showbackground\":true,\"ticks\":\"\",\"zerolinecolor\":\"white\"},\"yaxis\":{\"backgroundcolor\":\"#E5ECF6\",\"gridcolor\":\"white\",\"gridwidth\":2,\"linecolor\":\"white\",\"showbackground\":true,\"ticks\":\"\",\"zerolinecolor\":\"white\"},\"zaxis\":{\"backgroundcolor\":\"#E5ECF6\",\"gridcolor\":\"white\",\"gridwidth\":2,\"linecolor\":\"white\",\"showbackground\":true,\"ticks\":\"\",\"zerolinecolor\":\"white\"}},\"shapedefaults\":{\"line\":{\"color\":\"#2a3f5f\"}},\"ternary\":{\"aaxis\":{\"gridcolor\":\"white\",\"linecolor\":\"white\",\"ticks\":\"\"},\"baxis\":{\"gridcolor\":\"white\",\"linecolor\":\"white\",\"ticks\":\"\"},\"bgcolor\":\"#E5ECF6\",\"caxis\":{\"gridcolor\":\"white\",\"linecolor\":\"white\",\"ticks\":\"\"}},\"title\":{\"x\":0.05},\"xaxis\":{\"automargin\":true,\"gridcolor\":\"white\",\"linecolor\":\"white\",\"ticks\":\"\",\"title\":{\"standoff\":15},\"zerolinecolor\":\"white\",\"zerolinewidth\":2},\"yaxis\":{\"automargin\":true,\"gridcolor\":\"white\",\"linecolor\":\"white\",\"ticks\":\"\",\"title\":{\"standoff\":15},\"zerolinecolor\":\"white\",\"zerolinewidth\":2}}},\"scene\":{\"domain\":{\"x\":[0.0,1.0],\"y\":[0.0,1.0]},\"xaxis\":{\"title\":{\"text\":\"x\"}},\"yaxis\":{\"title\":{\"text\":\"y\"}},\"zaxis\":{\"title\":{\"text\":\"z\"}}},\"legend\":{\"title\":{\"text\":\"color\"},\"tracegroupgap\":0},\"margin\":{\"t\":20,\"l\":20,\"r\":20,\"b\":20}},                        {\"responsive\": true}                    ).then(function(){\n",
              "                            \n",
              "var gd = document.getElementById('ad31eb21-44c4-4a60-8c14-025877bdeaf8');\n",
              "var x = new MutationObserver(function (mutations, observer) {{\n",
              "        var display = window.getComputedStyle(gd).display;\n",
              "        if (!display || display === 'none') {{\n",
              "            console.log([gd, 'removed!']);\n",
              "            Plotly.purge(gd);\n",
              "            observer.disconnect();\n",
              "        }}\n",
              "}});\n",
              "\n",
              "// Listen for the removal of the full notebook cells\n",
              "var notebookContainer = gd.closest('#notebook-container');\n",
              "if (notebookContainer) {{\n",
              "    x.observe(notebookContainer, {childList: true});\n",
              "}}\n",
              "\n",
              "// Listen for the clearing of the current output cell\n",
              "var outputEl = gd.closest('.output');\n",
              "if (outputEl) {{\n",
              "    x.observe(outputEl, {childList: true});\n",
              "}}\n",
              "\n",
              "                        })                };                            </script>        </div>\n",
              "</body>\n",
              "</html>"
            ]
          },
          "metadata": {}
        }
      ]
    },
    {
      "cell_type": "markdown",
      "source": [
        "**Hyperparamter Tuning for Support Vector Machine**"
      ],
      "metadata": {
        "id": "GRwiJHNuiKIf"
      }
    },
    {
      "cell_type": "code",
      "source": [
        "#Hyperparameter Tuning for Support Vector Machine\n",
        "for i in range(1,15):\n",
        "  pca = PCA(n_components = i)\n",
        "\n",
        "  X_train_ht = pca.fit_transform(X_train)\n",
        "  X_test_ht = pca.transform(X_test)\n",
        "\n",
        "  sm = SVC()\n",
        "  sm.fit(X_train_ht,y_train)\n",
        "  start = time.time()\n",
        "  y_pred_ht = sm.predict(X_test_ht)\n",
        "  print(\"Time taken:\",time.time()-start)\n",
        "\n",
        "  print(\"Accuracy:\",accuracy_score(y_test,y_pred_ht))"
      ],
      "metadata": {
        "colab": {
          "base_uri": "https://localhost:8080/"
        },
        "id": "Aa5KpiIrMp6d",
        "outputId": "8a494afb-6193-464d-c53c-37d5b41f7731"
      },
      "execution_count": null,
      "outputs": [
        {
          "output_type": "stream",
          "name": "stdout",
          "text": [
            "Time taken: 0.0009167194366455078\n",
            "Accuracy: 0.9035087719298246\n",
            "Time taken: 0.0007610321044921875\n",
            "Accuracy: 0.8947368421052632\n",
            "Time taken: 0.0007808208465576172\n",
            "Accuracy: 0.9122807017543859\n",
            "Time taken: 0.0007636547088623047\n",
            "Accuracy: 0.9298245614035088\n",
            "Time taken: 0.0007808208465576172\n",
            "Accuracy: 0.956140350877193\n",
            "Time taken: 0.0008471012115478516\n",
            "Accuracy: 0.9649122807017544\n",
            "Time taken: 0.0008895397186279297\n",
            "Accuracy: 0.9649122807017544\n",
            "Time taken: 0.0009262561798095703\n",
            "Accuracy: 0.9649122807017544\n",
            "Time taken: 0.0009315013885498047\n",
            "Accuracy: 0.9649122807017544\n",
            "Time taken: 0.0009582042694091797\n",
            "Accuracy: 0.9824561403508771\n",
            "Time taken: 0.0009937286376953125\n",
            "Accuracy: 0.9824561403508771\n",
            "Time taken: 0.0009911060333251953\n",
            "Accuracy: 0.9824561403508771\n",
            "Time taken: 0.0011358261108398438\n",
            "Accuracy: 0.9824561403508771\n",
            "Time taken: 0.0010995864868164062\n",
            "Accuracy: 0.9736842105263158\n"
          ]
        }
      ]
    },
    {
      "cell_type": "markdown",
      "source": [
        "**Hyperpameter Tuning For Logistic Regression**"
      ],
      "metadata": {
        "id": "c_ptCwQjiSPe"
      }
    },
    {
      "cell_type": "code",
      "source": [
        "from sklearn.linear_model import LogisticRegression"
      ],
      "metadata": {
        "id": "nf-Q5WqsNCiN"
      },
      "execution_count": null,
      "outputs": []
    },
    {
      "cell_type": "code",
      "source": [
        "#Hyperparameter Tuning for Logistic Regression\n",
        "for i in range(1,15):\n",
        "  pca = PCA(n_components = i)\n",
        "\n",
        "  X_train_ht = pca.fit_transform(X_train)\n",
        "  X_test_ht = pca.transform(X_test)\n",
        "\n",
        "  lr = LogisticRegression()\n",
        "  lr.fit(X_train_ht,y_train)\n",
        "  y_pred_ht = lr.predict(X_test_ht)\n",
        "\n",
        "  print(accuracy_score(y_test,y_pred_ht))"
      ],
      "metadata": {
        "colab": {
          "base_uri": "https://localhost:8080/"
        },
        "id": "k869sSKOM-Hd",
        "outputId": "6abc0b07-331f-4bd8-9b46-d894df9e8a12"
      },
      "execution_count": null,
      "outputs": [
        {
          "output_type": "stream",
          "name": "stdout",
          "text": [
            "0.9035087719298246\n",
            "0.9210526315789473\n",
            "0.9210526315789473\n",
            "0.956140350877193\n",
            "0.956140350877193\n",
            "0.956140350877193\n",
            "0.956140350877193\n",
            "0.956140350877193\n",
            "0.9385964912280702\n",
            "0.9473684210526315\n",
            "0.9473684210526315\n",
            "0.9473684210526315\n",
            "0.9473684210526315\n",
            "0.956140350877193\n"
          ]
        }
      ]
    },
    {
      "cell_type": "code",
      "source": [
        "print(confusion_matrix(y_test,y_pred))"
      ],
      "metadata": {
        "colab": {
          "base_uri": "https://localhost:8080/"
        },
        "id": "n2INMyRzP65u",
        "outputId": "6544a662-df04-45c1-f721-69a8a8e38b85"
      },
      "execution_count": null,
      "outputs": [
        {
          "output_type": "stream",
          "name": "stdout",
          "text": [
            "[[66  1]\n",
            " [ 2 45]]\n"
          ]
        }
      ]
    },
    {
      "cell_type": "markdown",
      "source": [
        "**Classification Report**"
      ],
      "metadata": {
        "id": "WyA4WPEriZrV"
      }
    },
    {
      "cell_type": "code",
      "source": [
        "from sklearn.metrics import classification_report\n",
        "print(\"classification Report:\",classification_report(y_test,y_pred))"
      ],
      "metadata": {
        "id": "iaJ0tjNUQD9W",
        "colab": {
          "base_uri": "https://localhost:8080/"
        },
        "outputId": "8680d926-ab98-4380-9b5d-9c78b0f067ff"
      },
      "execution_count": null,
      "outputs": [
        {
          "output_type": "stream",
          "name": "stdout",
          "text": [
            "classification Report:               precision    recall  f1-score   support\n",
            "\n",
            "           B       0.97      0.99      0.98        67\n",
            "           M       0.98      0.96      0.97        47\n",
            "\n",
            "    accuracy                           0.97       114\n",
            "   macro avg       0.97      0.97      0.97       114\n",
            "weighted avg       0.97      0.97      0.97       114\n",
            "\n"
          ]
        }
      ]
    }
  ]
}